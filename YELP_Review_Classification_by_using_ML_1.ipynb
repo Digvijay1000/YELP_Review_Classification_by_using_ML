{
 "cells": [
  {
   "cell_type": "markdown",
   "metadata": {
    "id": "OtUMNJO6ZvzW"
   },
   "source": [
    "#YELP_Review_Classification_by_using_ML"
   ]
  },
  {
   "cell_type": "code",
   "execution_count": 1,
   "metadata": {
    "colab": {
     "base_uri": "https://localhost:8080/"
    },
    "id": "PVC_l75YzYUJ",
    "outputId": "aaca469d-0c16-4284-aaec-a202e9cd5193"
   },
   "outputs": [
    {
     "name": "stdout",
     "output_type": "stream",
     "text": [
      "Collecting contractions\n",
      "  Downloading contractions-0.1.73-py2.py3-none-any.whl (8.7 kB)\n",
      "Collecting textsearch>=0.0.21 (from contractions)\n",
      "  Downloading textsearch-0.0.24-py2.py3-none-any.whl (7.6 kB)\n",
      "Collecting anyascii (from textsearch>=0.0.21->contractions)\n",
      "  Downloading anyascii-0.3.2-py3-none-any.whl (289 kB)\n",
      "\u001b[2K     \u001b[90m━━━━━━━━━━━━━━━━━━━━━━━━━━━━━━━━━━━━━━━\u001b[0m \u001b[32m289.9/289.9 kB\u001b[0m \u001b[31m4.1 MB/s\u001b[0m eta \u001b[36m0:00:00\u001b[0m\n",
      "\u001b[?25hCollecting pyahocorasick (from textsearch>=0.0.21->contractions)\n",
      "  Downloading pyahocorasick-2.0.0-cp310-cp310-manylinux_2_5_x86_64.manylinux1_x86_64.manylinux_2_12_x86_64.manylinux2010_x86_64.whl (110 kB)\n",
      "\u001b[2K     \u001b[90m━━━━━━━━━━━━━━━━━━━━━━━━━━━━━━━━━━━━━━━\u001b[0m \u001b[32m110.8/110.8 kB\u001b[0m \u001b[31m8.1 MB/s\u001b[0m eta \u001b[36m0:00:00\u001b[0m\n",
      "\u001b[?25hInstalling collected packages: pyahocorasick, anyascii, textsearch, contractions\n",
      "Successfully installed anyascii-0.3.2 contractions-0.1.73 pyahocorasick-2.0.0 textsearch-0.0.24\n",
      "Collecting unidecode\n",
      "  Downloading Unidecode-1.3.6-py3-none-any.whl (235 kB)\n",
      "\u001b[2K     \u001b[90m━━━━━━━━━━━━━━━━━━━━━━━━━━━━━━━━━━━━━━━\u001b[0m \u001b[32m235.9/235.9 kB\u001b[0m \u001b[31m2.4 MB/s\u001b[0m eta \u001b[36m0:00:00\u001b[0m\n",
      "\u001b[?25hInstalling collected packages: unidecode\n",
      "Successfully installed unidecode-1.3.6\n",
      "Collecting autocorrect\n",
      "  Downloading autocorrect-2.6.1.tar.gz (622 kB)\n",
      "\u001b[2K     \u001b[90m━━━━━━━━━━━━━━━━━━━━━━━━━━━━━━━━━━━━━━━\u001b[0m \u001b[32m622.8/622.8 kB\u001b[0m \u001b[31m6.5 MB/s\u001b[0m eta \u001b[36m0:00:00\u001b[0m\n",
      "\u001b[?25h  Preparing metadata (setup.py) ... \u001b[?25l\u001b[?25hdone\n",
      "Building wheels for collected packages: autocorrect\n",
      "  Building wheel for autocorrect (setup.py) ... \u001b[?25l\u001b[?25hdone\n",
      "  Created wheel for autocorrect: filename=autocorrect-2.6.1-py3-none-any.whl size=622363 sha256=d32b7a2f922df216a2acd246c5f69d5fc0b1b629cab98cf1c4174df8448dc700\n",
      "  Stored in directory: /root/.cache/pip/wheels/b5/7b/6d/b76b29ce11ff8e2521c8c7dd0e5bfee4fb1789d76193124343\n",
      "Successfully built autocorrect\n",
      "Installing collected packages: autocorrect\n",
      "Successfully installed autocorrect-2.6.1\n"
     ]
    }
   ],
   "source": [
    "!pip install contractions\n",
    "!pip install unidecode\n",
    "!pip install autocorrect"
   ]
  },
  {
   "cell_type": "code",
   "execution_count": 2,
   "metadata": {
    "id": "r9OcFj1CZyWr"
   },
   "outputs": [],
   "source": [
    "import pandas as pd\n",
    "\n",
    "import nltk\n",
    "from nltk.tokenize import word_tokenize,RegexpTokenizer\n",
    "from nltk.stem import LancasterStemmer,PorterStemmer,SnowballStemmer,WordNetLemmatizer\n",
    "from nltk.corpus import stopwords\n",
    "\n",
    "from string import punctuation\n",
    "\n",
    "import contractions # used for Contraction Mapping >> haven't => have not , isn't => is not\n",
    "import unidecode # used for to Remove Accented Characters\n",
    "\n",
    "from autocorrect import spell,Speller\n",
    "\n",
    "import warnings\n",
    "warnings.filterwarnings('ignore')\n",
    "\n",
    "import time\n",
    "import re\n",
    "\n",
    "from sklearn.feature_extraction.text import CountVectorizer,TfidfVectorizer\n",
    "from sklearn.model_selection import train_test_split\n",
    "from sklearn.naive_bayes import MultinomialNB\n",
    "from sklearn.metrics import accuracy_score"
   ]
  },
  {
   "cell_type": "markdown",
   "metadata": {
    "id": "DaZ2rNVpfPVH"
   },
   "source": [
    "### Importing Dataset"
   ]
  },
  {
   "cell_type": "code",
   "execution_count": 3,
   "metadata": {
    "colab": {
     "base_uri": "https://localhost:8080/"
    },
    "id": "ZbA_2tG1dB_k",
    "outputId": "9262aa74-af01-49db-8365-0482e46d2dc5"
   },
   "outputs": [
    {
     "name": "stdout",
     "output_type": "stream",
     "text": [
      "Mounted at /content/drive\n"
     ]
    }
   ],
   "source": [
    "from google.colab import drive\n",
    "drive.mount('/content/drive')"
   ]
  },
  {
   "cell_type": "code",
   "execution_count": 4,
   "metadata": {
    "id": "koTIWixCdHpO"
   },
   "outputs": [],
   "source": [
    "df = pd.read_csv('/content/drive/MyDrive/YELP_Review_Classificataion_by_using_ML/yelp_review.csv')"
   ]
  },
  {
   "cell_type": "code",
   "execution_count": 5,
   "metadata": {
    "colab": {
     "base_uri": "https://localhost:8080/",
     "height": 337
    },
    "id": "A8VcHy9hdgtH",
    "outputId": "2892b408-c44b-4424-8ae9-f37fa6d147a3"
   },
   "outputs": [
    {
     "data": {
      "text/html": [
       "\n",
       "\n",
       "  <div id=\"df-71ca722b-9c1c-435c-afa0-c104b043f65a\">\n",
       "    <div class=\"colab-df-container\">\n",
       "      <div>\n",
       "<style scoped>\n",
       "    .dataframe tbody tr th:only-of-type {\n",
       "        vertical-align: middle;\n",
       "    }\n",
       "\n",
       "    .dataframe tbody tr th {\n",
       "        vertical-align: top;\n",
       "    }\n",
       "\n",
       "    .dataframe thead th {\n",
       "        text-align: right;\n",
       "    }\n",
       "</style>\n",
       "<table border=\"1\" class=\"dataframe\">\n",
       "  <thead>\n",
       "    <tr style=\"text-align: right;\">\n",
       "      <th></th>\n",
       "      <th>review_id</th>\n",
       "      <th>user_id</th>\n",
       "      <th>business_id</th>\n",
       "      <th>stars</th>\n",
       "      <th>date</th>\n",
       "      <th>text</th>\n",
       "      <th>useful</th>\n",
       "      <th>funny</th>\n",
       "      <th>cool</th>\n",
       "    </tr>\n",
       "  </thead>\n",
       "  <tbody>\n",
       "    <tr>\n",
       "      <th>0</th>\n",
       "      <td>vkVSCC7xljjrAI4UGfnKEQ</td>\n",
       "      <td>bv2nCi5Qv5vroFiqKGopiw</td>\n",
       "      <td>AEx2SYEUJmTxVVB18LlCwA</td>\n",
       "      <td>5</td>\n",
       "      <td>2016-05-28</td>\n",
       "      <td>Super simple place but amazing nonetheless. It...</td>\n",
       "      <td>0</td>\n",
       "      <td>0</td>\n",
       "      <td>0</td>\n",
       "    </tr>\n",
       "    <tr>\n",
       "      <th>1</th>\n",
       "      <td>n6QzIUObkYshz4dz2QRJTw</td>\n",
       "      <td>bv2nCi5Qv5vroFiqKGopiw</td>\n",
       "      <td>VR6GpWIda3SfvPC-lg9H3w</td>\n",
       "      <td>5</td>\n",
       "      <td>2016-05-28</td>\n",
       "      <td>Small unassuming place that changes their menu...</td>\n",
       "      <td>0</td>\n",
       "      <td>0</td>\n",
       "      <td>0</td>\n",
       "    </tr>\n",
       "    <tr>\n",
       "      <th>2</th>\n",
       "      <td>MV3CcKScW05u5LVfF6ok0g</td>\n",
       "      <td>bv2nCi5Qv5vroFiqKGopiw</td>\n",
       "      <td>CKC0-MOWMqoeWf6s-szl8g</td>\n",
       "      <td>5</td>\n",
       "      <td>2016-05-28</td>\n",
       "      <td>Lester's is located in a beautiful neighborhoo...</td>\n",
       "      <td>0</td>\n",
       "      <td>0</td>\n",
       "      <td>0</td>\n",
       "    </tr>\n",
       "    <tr>\n",
       "      <th>3</th>\n",
       "      <td>IXvOzsEMYtiJI0CARmj77Q</td>\n",
       "      <td>bv2nCi5Qv5vroFiqKGopiw</td>\n",
       "      <td>ACFtxLv8pGrrxMm6EgjreA</td>\n",
       "      <td>4</td>\n",
       "      <td>2016-05-28</td>\n",
       "      <td>Love coming here. Yes the place always needs t...</td>\n",
       "      <td>0</td>\n",
       "      <td>0</td>\n",
       "      <td>0</td>\n",
       "    </tr>\n",
       "    <tr>\n",
       "      <th>4</th>\n",
       "      <td>L_9BTb55X0GDtThi6GlZ6w</td>\n",
       "      <td>bv2nCi5Qv5vroFiqKGopiw</td>\n",
       "      <td>s2I_Ni76bjJNK9yG60iD-Q</td>\n",
       "      <td>4</td>\n",
       "      <td>2016-05-28</td>\n",
       "      <td>Had their chocolate almond croissant and it wa...</td>\n",
       "      <td>0</td>\n",
       "      <td>0</td>\n",
       "      <td>0</td>\n",
       "    </tr>\n",
       "  </tbody>\n",
       "</table>\n",
       "</div>\n",
       "      <button class=\"colab-df-convert\" onclick=\"convertToInteractive('df-71ca722b-9c1c-435c-afa0-c104b043f65a')\"\n",
       "              title=\"Convert this dataframe to an interactive table.\"\n",
       "              style=\"display:none;\">\n",
       "\n",
       "  <svg xmlns=\"http://www.w3.org/2000/svg\" height=\"24px\"viewBox=\"0 0 24 24\"\n",
       "       width=\"24px\">\n",
       "    <path d=\"M0 0h24v24H0V0z\" fill=\"none\"/>\n",
       "    <path d=\"M18.56 5.44l.94 2.06.94-2.06 2.06-.94-2.06-.94-.94-2.06-.94 2.06-2.06.94zm-11 1L8.5 8.5l.94-2.06 2.06-.94-2.06-.94L8.5 2.5l-.94 2.06-2.06.94zm10 10l.94 2.06.94-2.06 2.06-.94-2.06-.94-.94-2.06-.94 2.06-2.06.94z\"/><path d=\"M17.41 7.96l-1.37-1.37c-.4-.4-.92-.59-1.43-.59-.52 0-1.04.2-1.43.59L10.3 9.45l-7.72 7.72c-.78.78-.78 2.05 0 2.83L4 21.41c.39.39.9.59 1.41.59.51 0 1.02-.2 1.41-.59l7.78-7.78 2.81-2.81c.8-.78.8-2.07 0-2.86zM5.41 20L4 18.59l7.72-7.72 1.47 1.35L5.41 20z\"/>\n",
       "  </svg>\n",
       "      </button>\n",
       "\n",
       "\n",
       "\n",
       "    <div id=\"df-ab106132-a804-4528-96a4-3efb4e882920\">\n",
       "      <button class=\"colab-df-quickchart\" onclick=\"quickchart('df-ab106132-a804-4528-96a4-3efb4e882920')\"\n",
       "              title=\"Suggest charts.\"\n",
       "              style=\"display:none;\">\n",
       "\n",
       "<svg xmlns=\"http://www.w3.org/2000/svg\" height=\"24px\"viewBox=\"0 0 24 24\"\n",
       "     width=\"24px\">\n",
       "    <g>\n",
       "        <path d=\"M19 3H5c-1.1 0-2 .9-2 2v14c0 1.1.9 2 2 2h14c1.1 0 2-.9 2-2V5c0-1.1-.9-2-2-2zM9 17H7v-7h2v7zm4 0h-2V7h2v10zm4 0h-2v-4h2v4z\"/>\n",
       "    </g>\n",
       "</svg>\n",
       "      </button>\n",
       "    </div>\n",
       "\n",
       "<style>\n",
       "  .colab-df-quickchart {\n",
       "    background-color: #E8F0FE;\n",
       "    border: none;\n",
       "    border-radius: 50%;\n",
       "    cursor: pointer;\n",
       "    display: none;\n",
       "    fill: #1967D2;\n",
       "    height: 32px;\n",
       "    padding: 0 0 0 0;\n",
       "    width: 32px;\n",
       "  }\n",
       "\n",
       "  .colab-df-quickchart:hover {\n",
       "    background-color: #E2EBFA;\n",
       "    box-shadow: 0px 1px 2px rgba(60, 64, 67, 0.3), 0px 1px 3px 1px rgba(60, 64, 67, 0.15);\n",
       "    fill: #174EA6;\n",
       "  }\n",
       "\n",
       "  [theme=dark] .colab-df-quickchart {\n",
       "    background-color: #3B4455;\n",
       "    fill: #D2E3FC;\n",
       "  }\n",
       "\n",
       "  [theme=dark] .colab-df-quickchart:hover {\n",
       "    background-color: #434B5C;\n",
       "    box-shadow: 0px 1px 3px 1px rgba(0, 0, 0, 0.15);\n",
       "    filter: drop-shadow(0px 1px 2px rgba(0, 0, 0, 0.3));\n",
       "    fill: #FFFFFF;\n",
       "  }\n",
       "</style>\n",
       "\n",
       "    <script>\n",
       "      async function quickchart(key) {\n",
       "        const containerElement = document.querySelector('#' + key);\n",
       "        const charts = await google.colab.kernel.invokeFunction(\n",
       "            'suggestCharts', [key], {});\n",
       "      }\n",
       "    </script>\n",
       "\n",
       "      <script>\n",
       "\n",
       "function displayQuickchartButton(domScope) {\n",
       "  let quickchartButtonEl =\n",
       "    domScope.querySelector('#df-ab106132-a804-4528-96a4-3efb4e882920 button.colab-df-quickchart');\n",
       "  quickchartButtonEl.style.display =\n",
       "    google.colab.kernel.accessAllowed ? 'block' : 'none';\n",
       "}\n",
       "\n",
       "        displayQuickchartButton(document);\n",
       "      </script>\n",
       "      <style>\n",
       "    .colab-df-container {\n",
       "      display:flex;\n",
       "      flex-wrap:wrap;\n",
       "      gap: 12px;\n",
       "    }\n",
       "\n",
       "    .colab-df-convert {\n",
       "      background-color: #E8F0FE;\n",
       "      border: none;\n",
       "      border-radius: 50%;\n",
       "      cursor: pointer;\n",
       "      display: none;\n",
       "      fill: #1967D2;\n",
       "      height: 32px;\n",
       "      padding: 0 0 0 0;\n",
       "      width: 32px;\n",
       "    }\n",
       "\n",
       "    .colab-df-convert:hover {\n",
       "      background-color: #E2EBFA;\n",
       "      box-shadow: 0px 1px 2px rgba(60, 64, 67, 0.3), 0px 1px 3px 1px rgba(60, 64, 67, 0.15);\n",
       "      fill: #174EA6;\n",
       "    }\n",
       "\n",
       "    [theme=dark] .colab-df-convert {\n",
       "      background-color: #3B4455;\n",
       "      fill: #D2E3FC;\n",
       "    }\n",
       "\n",
       "    [theme=dark] .colab-df-convert:hover {\n",
       "      background-color: #434B5C;\n",
       "      box-shadow: 0px 1px 3px 1px rgba(0, 0, 0, 0.15);\n",
       "      filter: drop-shadow(0px 1px 2px rgba(0, 0, 0, 0.3));\n",
       "      fill: #FFFFFF;\n",
       "    }\n",
       "  </style>\n",
       "\n",
       "      <script>\n",
       "        const buttonEl =\n",
       "          document.querySelector('#df-71ca722b-9c1c-435c-afa0-c104b043f65a button.colab-df-convert');\n",
       "        buttonEl.style.display =\n",
       "          google.colab.kernel.accessAllowed ? 'block' : 'none';\n",
       "\n",
       "        async function convertToInteractive(key) {\n",
       "          const element = document.querySelector('#df-71ca722b-9c1c-435c-afa0-c104b043f65a');\n",
       "          const dataTable =\n",
       "            await google.colab.kernel.invokeFunction('convertToInteractive',\n",
       "                                                     [key], {});\n",
       "          if (!dataTable) return;\n",
       "\n",
       "          const docLinkHtml = 'Like what you see? Visit the ' +\n",
       "            '<a target=\"_blank\" href=https://colab.research.google.com/notebooks/data_table.ipynb>data table notebook</a>'\n",
       "            + ' to learn more about interactive tables.';\n",
       "          element.innerHTML = '';\n",
       "          dataTable['output_type'] = 'display_data';\n",
       "          await google.colab.output.renderOutput(dataTable, element);\n",
       "          const docLink = document.createElement('div');\n",
       "          docLink.innerHTML = docLinkHtml;\n",
       "          element.appendChild(docLink);\n",
       "        }\n",
       "      </script>\n",
       "    </div>\n",
       "  </div>\n"
      ],
      "text/plain": [
       "                review_id                 user_id             business_id  \\\n",
       "0  vkVSCC7xljjrAI4UGfnKEQ  bv2nCi5Qv5vroFiqKGopiw  AEx2SYEUJmTxVVB18LlCwA   \n",
       "1  n6QzIUObkYshz4dz2QRJTw  bv2nCi5Qv5vroFiqKGopiw  VR6GpWIda3SfvPC-lg9H3w   \n",
       "2  MV3CcKScW05u5LVfF6ok0g  bv2nCi5Qv5vroFiqKGopiw  CKC0-MOWMqoeWf6s-szl8g   \n",
       "3  IXvOzsEMYtiJI0CARmj77Q  bv2nCi5Qv5vroFiqKGopiw  ACFtxLv8pGrrxMm6EgjreA   \n",
       "4  L_9BTb55X0GDtThi6GlZ6w  bv2nCi5Qv5vroFiqKGopiw  s2I_Ni76bjJNK9yG60iD-Q   \n",
       "\n",
       "   stars        date                                               text  \\\n",
       "0      5  2016-05-28  Super simple place but amazing nonetheless. It...   \n",
       "1      5  2016-05-28  Small unassuming place that changes their menu...   \n",
       "2      5  2016-05-28  Lester's is located in a beautiful neighborhoo...   \n",
       "3      4  2016-05-28  Love coming here. Yes the place always needs t...   \n",
       "4      4  2016-05-28  Had their chocolate almond croissant and it wa...   \n",
       "\n",
       "   useful  funny  cool  \n",
       "0       0      0     0  \n",
       "1       0      0     0  \n",
       "2       0      0     0  \n",
       "3       0      0     0  \n",
       "4       0      0     0  "
      ]
     },
     "execution_count": 5,
     "metadata": {},
     "output_type": "execute_result"
    }
   ],
   "source": [
    "df.head()"
   ]
  },
  {
   "cell_type": "code",
   "execution_count": 6,
   "metadata": {
    "colab": {
     "base_uri": "https://localhost:8080/"
    },
    "id": "-HD6VwSsdqQC",
    "outputId": "ea4f59e8-6cf0-422f-f7a3-4713a62001f1"
   },
   "outputs": [
    {
     "data": {
      "text/plain": [
       "(5261668, 9)"
      ]
     },
     "execution_count": 6,
     "metadata": {},
     "output_type": "execute_result"
    }
   ],
   "source": [
    "df.shape"
   ]
  },
  {
   "cell_type": "code",
   "execution_count": 7,
   "metadata": {
    "id": "vSmksfh3Bs3F"
   },
   "outputs": [],
   "source": [
    "df = df.loc[df.index <= 50000]"
   ]
  },
  {
   "cell_type": "code",
   "execution_count": 8,
   "metadata": {
    "colab": {
     "base_uri": "https://localhost:8080/"
    },
    "id": "8kAU9BjjB7S8",
    "outputId": "5d8506e2-9822-4cd0-bac9-ae84f56c66e2"
   },
   "outputs": [
    {
     "data": {
      "text/plain": [
       "(50001, 9)"
      ]
     },
     "execution_count": 8,
     "metadata": {},
     "output_type": "execute_result"
    }
   ],
   "source": [
    "df.shape"
   ]
  },
  {
   "cell_type": "code",
   "execution_count": 9,
   "metadata": {
    "colab": {
     "base_uri": "https://localhost:8080/"
    },
    "id": "UvS151D1ehSp",
    "outputId": "24c6c685-4a99-46d3-ec35-bb3dffd79fe5"
   },
   "outputs": [
    {
     "data": {
      "text/plain": [
       "Index(['review_id', 'user_id', 'business_id', 'stars', 'date', 'text',\n",
       "       'useful', 'funny', 'cool'],\n",
       "      dtype='object')"
      ]
     },
     "execution_count": 9,
     "metadata": {},
     "output_type": "execute_result"
    }
   ],
   "source": [
    "df.columns"
   ]
  },
  {
   "cell_type": "code",
   "execution_count": 10,
   "metadata": {
    "colab": {
     "base_uri": "https://localhost:8080/",
     "height": 300
    },
    "id": "5z4RuUS5gAr5",
    "outputId": "bdc68177-0758-45c8-c57e-300c805f6333"
   },
   "outputs": [
    {
     "data": {
      "text/html": [
       "\n",
       "\n",
       "  <div id=\"df-1fce1ac3-0c5e-4eea-aa0e-9959a628e917\">\n",
       "    <div class=\"colab-df-container\">\n",
       "      <div>\n",
       "<style scoped>\n",
       "    .dataframe tbody tr th:only-of-type {\n",
       "        vertical-align: middle;\n",
       "    }\n",
       "\n",
       "    .dataframe tbody tr th {\n",
       "        vertical-align: top;\n",
       "    }\n",
       "\n",
       "    .dataframe thead th {\n",
       "        text-align: right;\n",
       "    }\n",
       "</style>\n",
       "<table border=\"1\" class=\"dataframe\">\n",
       "  <thead>\n",
       "    <tr style=\"text-align: right;\">\n",
       "      <th></th>\n",
       "      <th>stars</th>\n",
       "      <th>useful</th>\n",
       "      <th>funny</th>\n",
       "      <th>cool</th>\n",
       "    </tr>\n",
       "  </thead>\n",
       "  <tbody>\n",
       "    <tr>\n",
       "      <th>count</th>\n",
       "      <td>50001.000000</td>\n",
       "      <td>50001.000000</td>\n",
       "      <td>50001.000000</td>\n",
       "      <td>50001.000000</td>\n",
       "    </tr>\n",
       "    <tr>\n",
       "      <th>mean</th>\n",
       "      <td>3.731565</td>\n",
       "      <td>1.514850</td>\n",
       "      <td>0.574809</td>\n",
       "      <td>0.691106</td>\n",
       "    </tr>\n",
       "    <tr>\n",
       "      <th>std</th>\n",
       "      <td>1.386125</td>\n",
       "      <td>3.521662</td>\n",
       "      <td>1.982707</td>\n",
       "      <td>2.469907</td>\n",
       "    </tr>\n",
       "    <tr>\n",
       "      <th>min</th>\n",
       "      <td>1.000000</td>\n",
       "      <td>0.000000</td>\n",
       "      <td>0.000000</td>\n",
       "      <td>0.000000</td>\n",
       "    </tr>\n",
       "    <tr>\n",
       "      <th>25%</th>\n",
       "      <td>3.000000</td>\n",
       "      <td>0.000000</td>\n",
       "      <td>0.000000</td>\n",
       "      <td>0.000000</td>\n",
       "    </tr>\n",
       "    <tr>\n",
       "      <th>50%</th>\n",
       "      <td>4.000000</td>\n",
       "      <td>1.000000</td>\n",
       "      <td>0.000000</td>\n",
       "      <td>0.000000</td>\n",
       "    </tr>\n",
       "    <tr>\n",
       "      <th>75%</th>\n",
       "      <td>5.000000</td>\n",
       "      <td>2.000000</td>\n",
       "      <td>0.000000</td>\n",
       "      <td>1.000000</td>\n",
       "    </tr>\n",
       "    <tr>\n",
       "      <th>max</th>\n",
       "      <td>5.000000</td>\n",
       "      <td>187.000000</td>\n",
       "      <td>59.000000</td>\n",
       "      <td>103.000000</td>\n",
       "    </tr>\n",
       "  </tbody>\n",
       "</table>\n",
       "</div>\n",
       "      <button class=\"colab-df-convert\" onclick=\"convertToInteractive('df-1fce1ac3-0c5e-4eea-aa0e-9959a628e917')\"\n",
       "              title=\"Convert this dataframe to an interactive table.\"\n",
       "              style=\"display:none;\">\n",
       "\n",
       "  <svg xmlns=\"http://www.w3.org/2000/svg\" height=\"24px\"viewBox=\"0 0 24 24\"\n",
       "       width=\"24px\">\n",
       "    <path d=\"M0 0h24v24H0V0z\" fill=\"none\"/>\n",
       "    <path d=\"M18.56 5.44l.94 2.06.94-2.06 2.06-.94-2.06-.94-.94-2.06-.94 2.06-2.06.94zm-11 1L8.5 8.5l.94-2.06 2.06-.94-2.06-.94L8.5 2.5l-.94 2.06-2.06.94zm10 10l.94 2.06.94-2.06 2.06-.94-2.06-.94-.94-2.06-.94 2.06-2.06.94z\"/><path d=\"M17.41 7.96l-1.37-1.37c-.4-.4-.92-.59-1.43-.59-.52 0-1.04.2-1.43.59L10.3 9.45l-7.72 7.72c-.78.78-.78 2.05 0 2.83L4 21.41c.39.39.9.59 1.41.59.51 0 1.02-.2 1.41-.59l7.78-7.78 2.81-2.81c.8-.78.8-2.07 0-2.86zM5.41 20L4 18.59l7.72-7.72 1.47 1.35L5.41 20z\"/>\n",
       "  </svg>\n",
       "      </button>\n",
       "\n",
       "\n",
       "\n",
       "    <div id=\"df-1cdd2b12-ba50-4373-a638-840ac77d78b5\">\n",
       "      <button class=\"colab-df-quickchart\" onclick=\"quickchart('df-1cdd2b12-ba50-4373-a638-840ac77d78b5')\"\n",
       "              title=\"Suggest charts.\"\n",
       "              style=\"display:none;\">\n",
       "\n",
       "<svg xmlns=\"http://www.w3.org/2000/svg\" height=\"24px\"viewBox=\"0 0 24 24\"\n",
       "     width=\"24px\">\n",
       "    <g>\n",
       "        <path d=\"M19 3H5c-1.1 0-2 .9-2 2v14c0 1.1.9 2 2 2h14c1.1 0 2-.9 2-2V5c0-1.1-.9-2-2-2zM9 17H7v-7h2v7zm4 0h-2V7h2v10zm4 0h-2v-4h2v4z\"/>\n",
       "    </g>\n",
       "</svg>\n",
       "      </button>\n",
       "    </div>\n",
       "\n",
       "<style>\n",
       "  .colab-df-quickchart {\n",
       "    background-color: #E8F0FE;\n",
       "    border: none;\n",
       "    border-radius: 50%;\n",
       "    cursor: pointer;\n",
       "    display: none;\n",
       "    fill: #1967D2;\n",
       "    height: 32px;\n",
       "    padding: 0 0 0 0;\n",
       "    width: 32px;\n",
       "  }\n",
       "\n",
       "  .colab-df-quickchart:hover {\n",
       "    background-color: #E2EBFA;\n",
       "    box-shadow: 0px 1px 2px rgba(60, 64, 67, 0.3), 0px 1px 3px 1px rgba(60, 64, 67, 0.15);\n",
       "    fill: #174EA6;\n",
       "  }\n",
       "\n",
       "  [theme=dark] .colab-df-quickchart {\n",
       "    background-color: #3B4455;\n",
       "    fill: #D2E3FC;\n",
       "  }\n",
       "\n",
       "  [theme=dark] .colab-df-quickchart:hover {\n",
       "    background-color: #434B5C;\n",
       "    box-shadow: 0px 1px 3px 1px rgba(0, 0, 0, 0.15);\n",
       "    filter: drop-shadow(0px 1px 2px rgba(0, 0, 0, 0.3));\n",
       "    fill: #FFFFFF;\n",
       "  }\n",
       "</style>\n",
       "\n",
       "    <script>\n",
       "      async function quickchart(key) {\n",
       "        const containerElement = document.querySelector('#' + key);\n",
       "        const charts = await google.colab.kernel.invokeFunction(\n",
       "            'suggestCharts', [key], {});\n",
       "      }\n",
       "    </script>\n",
       "\n",
       "      <script>\n",
       "\n",
       "function displayQuickchartButton(domScope) {\n",
       "  let quickchartButtonEl =\n",
       "    domScope.querySelector('#df-1cdd2b12-ba50-4373-a638-840ac77d78b5 button.colab-df-quickchart');\n",
       "  quickchartButtonEl.style.display =\n",
       "    google.colab.kernel.accessAllowed ? 'block' : 'none';\n",
       "}\n",
       "\n",
       "        displayQuickchartButton(document);\n",
       "      </script>\n",
       "      <style>\n",
       "    .colab-df-container {\n",
       "      display:flex;\n",
       "      flex-wrap:wrap;\n",
       "      gap: 12px;\n",
       "    }\n",
       "\n",
       "    .colab-df-convert {\n",
       "      background-color: #E8F0FE;\n",
       "      border: none;\n",
       "      border-radius: 50%;\n",
       "      cursor: pointer;\n",
       "      display: none;\n",
       "      fill: #1967D2;\n",
       "      height: 32px;\n",
       "      padding: 0 0 0 0;\n",
       "      width: 32px;\n",
       "    }\n",
       "\n",
       "    .colab-df-convert:hover {\n",
       "      background-color: #E2EBFA;\n",
       "      box-shadow: 0px 1px 2px rgba(60, 64, 67, 0.3), 0px 1px 3px 1px rgba(60, 64, 67, 0.15);\n",
       "      fill: #174EA6;\n",
       "    }\n",
       "\n",
       "    [theme=dark] .colab-df-convert {\n",
       "      background-color: #3B4455;\n",
       "      fill: #D2E3FC;\n",
       "    }\n",
       "\n",
       "    [theme=dark] .colab-df-convert:hover {\n",
       "      background-color: #434B5C;\n",
       "      box-shadow: 0px 1px 3px 1px rgba(0, 0, 0, 0.15);\n",
       "      filter: drop-shadow(0px 1px 2px rgba(0, 0, 0, 0.3));\n",
       "      fill: #FFFFFF;\n",
       "    }\n",
       "  </style>\n",
       "\n",
       "      <script>\n",
       "        const buttonEl =\n",
       "          document.querySelector('#df-1fce1ac3-0c5e-4eea-aa0e-9959a628e917 button.colab-df-convert');\n",
       "        buttonEl.style.display =\n",
       "          google.colab.kernel.accessAllowed ? 'block' : 'none';\n",
       "\n",
       "        async function convertToInteractive(key) {\n",
       "          const element = document.querySelector('#df-1fce1ac3-0c5e-4eea-aa0e-9959a628e917');\n",
       "          const dataTable =\n",
       "            await google.colab.kernel.invokeFunction('convertToInteractive',\n",
       "                                                     [key], {});\n",
       "          if (!dataTable) return;\n",
       "\n",
       "          const docLinkHtml = 'Like what you see? Visit the ' +\n",
       "            '<a target=\"_blank\" href=https://colab.research.google.com/notebooks/data_table.ipynb>data table notebook</a>'\n",
       "            + ' to learn more about interactive tables.';\n",
       "          element.innerHTML = '';\n",
       "          dataTable['output_type'] = 'display_data';\n",
       "          await google.colab.output.renderOutput(dataTable, element);\n",
       "          const docLink = document.createElement('div');\n",
       "          docLink.innerHTML = docLinkHtml;\n",
       "          element.appendChild(docLink);\n",
       "        }\n",
       "      </script>\n",
       "    </div>\n",
       "  </div>\n"
      ],
      "text/plain": [
       "              stars        useful         funny          cool\n",
       "count  50001.000000  50001.000000  50001.000000  50001.000000\n",
       "mean       3.731565      1.514850      0.574809      0.691106\n",
       "std        1.386125      3.521662      1.982707      2.469907\n",
       "min        1.000000      0.000000      0.000000      0.000000\n",
       "25%        3.000000      0.000000      0.000000      0.000000\n",
       "50%        4.000000      1.000000      0.000000      0.000000\n",
       "75%        5.000000      2.000000      0.000000      1.000000\n",
       "max        5.000000    187.000000     59.000000    103.000000"
      ]
     },
     "execution_count": 10,
     "metadata": {},
     "output_type": "execute_result"
    }
   ],
   "source": [
    "df.describe()"
   ]
  },
  {
   "cell_type": "code",
   "execution_count": 11,
   "metadata": {
    "colab": {
     "base_uri": "https://localhost:8080/"
    },
    "id": "kBkQoSkPeilG",
    "outputId": "05e2932d-ac29-40bc-ef10-97bad8e9ef9a"
   },
   "outputs": [
    {
     "name": "stdout",
     "output_type": "stream",
     "text": [
      "<class 'pandas.core.frame.DataFrame'>\n",
      "Int64Index: 50001 entries, 0 to 50000\n",
      "Data columns (total 9 columns):\n",
      " #   Column       Non-Null Count  Dtype \n",
      "---  ------       --------------  ----- \n",
      " 0   review_id    50001 non-null  object\n",
      " 1   user_id      50001 non-null  object\n",
      " 2   business_id  50001 non-null  object\n",
      " 3   stars        50001 non-null  int64 \n",
      " 4   date         50001 non-null  object\n",
      " 5   text         50001 non-null  object\n",
      " 6   useful       50001 non-null  int64 \n",
      " 7   funny        50001 non-null  int64 \n",
      " 8   cool         50001 non-null  int64 \n",
      "dtypes: int64(4), object(5)\n",
      "memory usage: 3.8+ MB\n"
     ]
    }
   ],
   "source": [
    "df.info()"
   ]
  },
  {
   "cell_type": "code",
   "execution_count": 12,
   "metadata": {
    "colab": {
     "base_uri": "https://localhost:8080/"
    },
    "id": "bbAJLa2RfH_U",
    "outputId": "1492e012-1131-4c81-89ca-a06316ff3d68"
   },
   "outputs": [
    {
     "data": {
      "text/plain": [
       "review_id      0\n",
       "user_id        0\n",
       "business_id    0\n",
       "stars          0\n",
       "date           0\n",
       "text           0\n",
       "useful         0\n",
       "funny          0\n",
       "cool           0\n",
       "dtype: int64"
      ]
     },
     "execution_count": 12,
     "metadata": {},
     "output_type": "execute_result"
    }
   ],
   "source": [
    "df.isnull().sum()"
   ]
  },
  {
   "cell_type": "markdown",
   "metadata": {
    "id": "qWS7Zirbgb-V"
   },
   "source": [
    "### Plot the Data"
   ]
  },
  {
   "cell_type": "code",
   "execution_count": 13,
   "metadata": {
    "id": "ith8r_RE8cNR"
   },
   "outputs": [],
   "source": [
    "import seaborn as sns"
   ]
  },
  {
   "cell_type": "code",
   "execution_count": 14,
   "metadata": {
    "colab": {
     "base_uri": "https://localhost:8080/",
     "height": 1000
    },
    "id": "MmHsEZelgtoj",
    "outputId": "2282ca52-e615-4492-8c10-97667bbd0dae"
   },
   "outputs": [
    {
     "data": {
      "text/plain": [
       "<seaborn.axisgrid.PairGrid at 0x7f1fe71949a0>"
      ]
     },
     "execution_count": 14,
     "metadata": {},
     "output_type": "execute_result"
    },
    {
     "data": {
      "image/png": "[encoded data removed]",
      "text/plain": [
       "<Figure size 1000x1000 with 20 Axes>"
      ]
     },
     "metadata": {},
     "output_type": "display_data"
    }
   ],
   "source": [
    "sns.pairplot(df)"
   ]
  },
  {
   "cell_type": "code",
   "execution_count": 15,
   "metadata": {
    "colab": {
     "base_uri": "https://localhost:8080/",
     "height": 466
    },
    "id": "uEPbKkwMgiWY",
    "outputId": "6250d6d2-88f6-4e6e-bcbe-445ce67a6311"
   },
   "outputs": [
    {
     "data": {
      "text/plain": [
       "<Axes: xlabel='stars', ylabel='Density'>"
      ]
     },
     "execution_count": 15,
     "metadata": {},
     "output_type": "execute_result"
    },
    {
     "data": {
      "image/png": "[encoded data removed]",
      "text/plain": [
       "<Figure size 640x480 with 1 Axes>"
      ]
     },
     "metadata": {},
     "output_type": "display_data"
    }
   ],
   "source": [
    "sns.kdeplot(df['stars'])"
   ]
  },
  {
   "cell_type": "markdown",
   "metadata": {
    "id": "asKD1_QUhGCf"
   },
   "source": [
    "How many people gave 5 start rating"
   ]
  },
  {
   "cell_type": "code",
   "execution_count": 16,
   "metadata": {
    "colab": {
     "base_uri": "https://localhost:8080/"
    },
    "id": "nkBkVSdAhKKw",
    "outputId": "90fa55ee-cde1-4e05-ce3b-ae09c4740801"
   },
   "outputs": [
    {
     "data": {
      "text/plain": [
       "5    20188\n",
       "4    12876\n",
       "3     6527\n",
       "1     6263\n",
       "2     4147\n",
       "Name: stars, dtype: int64"
      ]
     },
     "execution_count": 16,
     "metadata": {},
     "output_type": "execute_result"
    }
   ],
   "source": [
    "df['stars'].value_counts()"
   ]
  },
  {
   "cell_type": "code",
   "execution_count": 17,
   "metadata": {
    "id": "aU9lgdff9TZC"
   },
   "outputs": [],
   "source": [
    "import matplotlib.pyplot as plt"
   ]
  },
  {
   "cell_type": "code",
   "execution_count": 18,
   "metadata": {
    "colab": {
     "base_uri": "https://localhost:8080/",
     "height": 489
    },
    "id": "AIinFW4nhRmL",
    "outputId": "f32231c5-ef95-4d04-8ce8-65b66cdac83f"
   },
   "outputs": [
    {
     "data": {
      "text/plain": [
       "Text(0.5, 1.0, 'Rating vs year')"
      ]
     },
     "execution_count": 18,
     "metadata": {},
     "output_type": "execute_result"
    },
    {
     "data": {
      "image/png": "[encoded data removed]",
      "text/plain": [
       "<Figure size 640x480 with 1 Axes>"
      ]
     },
     "metadata": {},
     "output_type": "display_data"
    }
   ],
   "source": [
    "df['date']=pd.to_datetime(df['date']).dt.date\n",
    "df.set_index('date').head(1)\n",
    "df['year']=pd.to_datetime(df['date']).dt.year\n",
    "sns.barplot(x=df['year'], y=df['stars'], data=df)\n",
    "plt.title('Rating vs year')"
   ]
  },
  {
   "cell_type": "code",
   "execution_count": 19,
   "metadata": {
    "colab": {
     "base_uri": "https://localhost:8080/",
     "height": 489
    },
    "id": "Jeh3TcSxhhlk",
    "outputId": "39a2638b-56e4-4799-e87c-4c1b42ff924a"
   },
   "outputs": [
    {
     "data": {
      "text/plain": [
       "Text(0.5, 1.0, 'Rating vs month')"
      ]
     },
     "execution_count": 19,
     "metadata": {},
     "output_type": "execute_result"
    },
    {
     "data": {
      "image/png": "[encoded data removed]",
      "text/plain": [
       "<Figure size 640x480 with 1 Axes>"
      ]
     },
     "metadata": {},
     "output_type": "display_data"
    }
   ],
   "source": [
    "df['date']=pd.to_datetime(df['date']).dt.date\n",
    "df.set_index('date').head(1)\n",
    "df['month']=pd.to_datetime(df['date']).dt.month\n",
    "sns.barplot(x=df['month'], y=df['stars'], data=df)\n",
    "plt.title('Rating vs month')"
   ]
  },
  {
   "cell_type": "code",
   "execution_count": 20,
   "metadata": {
    "colab": {
     "base_uri": "https://localhost:8080/",
     "height": 624
    },
    "id": "MdczwUTWhhn_",
    "outputId": "84f5902c-9d7c-4bd6-87be-eb716abe3d11"
   },
   "outputs": [
    {
     "data": {
      "text/plain": [
       "<seaborn.axisgrid.JointGrid at 0x7f1fe0479480>"
      ]
     },
     "execution_count": 20,
     "metadata": {},
     "output_type": "execute_result"
    },
    {
     "data": {
      "image/png": "[encoded data removed]",
      "text/plain": [
       "<Figure size 600x600 with 3 Axes>"
      ]
     },
     "metadata": {},
     "output_type": "display_data"
    }
   ],
   "source": [
    "df['length'] = df['text'].apply(len)\n",
    "sns.jointplot(x=df['length'],\n",
    "              y=df['stars'],\n",
    "              data=df,\n",
    "              kind='reg')"
   ]
  },
  {
   "cell_type": "markdown",
   "metadata": {
    "id": "_00sdiC2qMVT"
   },
   "source": [
    "It Looks like as lengthof text Increases the Rating is decreasing !! as per the graph"
   ]
  },
  {
   "cell_type": "markdown",
   "metadata": {
    "id": "NqY4E35Q-yfo"
   },
   "source": [
    "### Data Spliting"
   ]
  },
  {
   "cell_type": "code",
   "execution_count": 21,
   "metadata": {
    "id": "fOkG6buv-y3n"
   },
   "outputs": [],
   "source": [
    "x_train,x_test,y_train,y_test=train_test_split(df.text, df.stars, test_size=0.25, random_state=42)"
   ]
  },
  {
   "cell_type": "markdown",
   "metadata": {
    "id": "xOe0hde4rkjW"
   },
   "source": [
    "### Data Preprocessing\n",
    "\n",
    "Now we will see below steps of implementation\n",
    "1. remove newline tabs\n",
    "2. remove whitespace\n",
    "3. remove accented character\n",
    "4. contraction mapping : haven't have not\n",
    "5. cleaning punctuation stopwords\n",
    "6. autocorrect\n",
    "7. stemming and lemmatization"
   ]
  },
  {
   "cell_type": "markdown",
   "metadata": {
    "id": "ljMT-cMF9_GS"
   },
   "source": [
    "###### 1. remove newline tabs"
   ]
  },
  {
   "cell_type": "code",
   "execution_count": 22,
   "metadata": {
    "id": "Jy-4hUao99t9"
   },
   "outputs": [],
   "source": [
    "def remove_newline(df):\n",
    "    clean_text=df.replace(\"\\\\n\",\"\").replace(\"\\n\",\"\").replace(\"\\t\",\"\").replace(\"\\\\\",\"\")\n",
    "    return clean_text"
   ]
  },
  {
   "cell_type": "code",
   "execution_count": 23,
   "metadata": {
    "id": "PIC_POPX99xl"
   },
   "outputs": [],
   "source": [
    "train_clean_text = x_train.apply(remove_newline)\n",
    "test_clean_text = x_test.apply(remove_newline)"
   ]
  },
  {
   "cell_type": "code",
   "execution_count": 24,
   "metadata": {
    "colab": {
     "base_uri": "https://localhost:8080/"
    },
    "id": "qxbYQ3zo990q",
    "outputId": "98cd18c1-e929-4e5d-f5f4-60481d4d29b4"
   },
   "outputs": [
    {
     "data": {
      "text/plain": [
       "13400    Amazing! From the food to the service to the a...\n",
       "883      I am not sure how this place has so few rating...\n",
       "7303     What a terrible experience.When my friend and ...\n",
       "45125    I should say that I consider myself a foodie. ...\n",
       "874      How can you not seriously love this place? For...\n",
       "                               ...                        \n",
       "11284    I'm normally a fan of Rachel's Kitchen, but to...\n",
       "44732    We booked the limo service for our weekend tri...\n",
       "38158    Love the meat  but everything else is super ex...\n",
       "860      I realized when I was preparing to deploy over...\n",
       "15795    LOVE Pink Box!!!! We had them cater a doughnut...\n",
       "Name: text, Length: 37500, dtype: object"
      ]
     },
     "execution_count": 24,
     "metadata": {},
     "output_type": "execute_result"
    }
   ],
   "source": [
    "train_clean_text"
   ]
  },
  {
   "cell_type": "markdown",
   "metadata": {
    "id": "ghGfR-X-_3XA"
   },
   "source": [
    "###### 2. remove whitespace"
   ]
  },
  {
   "cell_type": "code",
   "execution_count": 25,
   "metadata": {
    "id": "aelEZNR9993N"
   },
   "outputs": [],
   "source": [
    "def remove_whitespace(data):\n",
    "#     pattern=re.compile('\\s+') # multiple whitespaces\n",
    "#     without_whitespace=re.sub(pattern,\" \",data) # single whitespace\n",
    "    without_whitespace=re.sub(r'\\s+',\" \",data) #multiple space removed with single space\n",
    "    return without_whitespace"
   ]
  },
  {
   "cell_type": "markdown",
   "metadata": {
    "id": "OFC4639KAhAU"
   },
   "source": [
    "Syntax: re.sub(pattern, repl, string, count=0, flags=0)\n",
    "\n",
    "Parameters: pattern – the pattern which is to be searched and substituted repl – the string with which the pattern is to be replaced string – the name of the variable in which the pattern is stored"
   ]
  },
  {
   "cell_type": "code",
   "execution_count": 26,
   "metadata": {
    "id": "1I94Cnbl9954"
   },
   "outputs": [],
   "source": [
    "train_clean_text=train_clean_text.apply(remove_whitespace)\n",
    "test_clean_text=test_clean_text.apply(remove_whitespace)"
   ]
  },
  {
   "cell_type": "code",
   "execution_count": 27,
   "metadata": {
    "colab": {
     "base_uri": "https://localhost:8080/"
    },
    "id": "b1QVtp3I9983",
    "outputId": "9c681f07-8623-4d37-9a2e-e2e1324cdf3d"
   },
   "outputs": [
    {
     "data": {
      "text/plain": [
       "13400    Amazing! From the food to the service to the a...\n",
       "883      I am not sure how this place has so few rating...\n",
       "7303     What a terrible experience.When my friend and ...\n",
       "45125    I should say that I consider myself a foodie. ...\n",
       "874      How can you not seriously love this place? For...\n",
       "                               ...                        \n",
       "11284    I'm normally a fan of Rachel's Kitchen, but to...\n",
       "44732    We booked the limo service for our weekend tri...\n",
       "38158    Love the meat but everything else is super exp...\n",
       "860      I realized when I was preparing to deploy over...\n",
       "15795    LOVE Pink Box!!!! We had them cater a doughnut...\n",
       "Name: text, Length: 37500, dtype: object"
      ]
     },
     "execution_count": 27,
     "metadata": {},
     "output_type": "execute_result"
    }
   ],
   "source": [
    "train_clean_text"
   ]
  },
  {
   "cell_type": "markdown",
   "metadata": {
    "id": "pntkjWCpAxNN"
   },
   "source": [
    "###### 3. Remove Accented Characters\n",
    "What are the most common accents?\n",
    "The most common accents are the acute (é), grave (è), circumflex (â, î or ô), tilde (ñ), umlaut and dieresis (ü or ï – the same symbol is used for two different purposes), and cedilla (ç)."
   ]
  },
  {
   "cell_type": "code",
   "execution_count": 28,
   "metadata": {
    "id": "pL1pwkad99_Z"
   },
   "outputs": [],
   "source": [
    "def remove_accented_character(data):\n",
    "    text=unidecode.unidecode(data)\n",
    "    return text"
   ]
  },
  {
   "cell_type": "code",
   "execution_count": 29,
   "metadata": {
    "id": "gSKj7fg69-CW"
   },
   "outputs": [],
   "source": [
    "train_clean_text=train_clean_text.apply(remove_accented_character)\n",
    "test_clean_text=test_clean_text.apply(remove_accented_character)"
   ]
  },
  {
   "cell_type": "code",
   "execution_count": 30,
   "metadata": {
    "colab": {
     "base_uri": "https://localhost:8080/"
    },
    "id": "NTK6FyIK9-FY",
    "outputId": "ddc5dee4-a380-4674-c6ac-e88ebf5aecd2"
   },
   "outputs": [
    {
     "data": {
      "text/plain": [
       "13400    Amazing! From the food to the service to the a...\n",
       "883      I am not sure how this place has so few rating...\n",
       "7303     What a terrible experience.When my friend and ...\n",
       "45125    I should say that I consider myself a foodie. ...\n",
       "874      How can you not seriously love this place? For...\n",
       "                               ...                        \n",
       "11284    I'm normally a fan of Rachel's Kitchen, but to...\n",
       "44732    We booked the limo service for our weekend tri...\n",
       "38158    Love the meat but everything else is super exp...\n",
       "860      I realized when I was preparing to deploy over...\n",
       "15795    LOVE Pink Box!!!! We had them cater a doughnut...\n",
       "Name: text, Length: 37500, dtype: object"
      ]
     },
     "execution_count": 30,
     "metadata": {},
     "output_type": "execute_result"
    }
   ],
   "source": [
    "train_clean_text"
   ]
  },
  {
   "cell_type": "markdown",
   "metadata": {
    "id": "jAZ8Puq8BFdP"
   },
   "source": [
    "###### 4. Contraction Mapping\n",
    "haven't => have not , isn't => is not"
   ]
  },
  {
   "cell_type": "code",
   "execution_count": 31,
   "metadata": {
    "id": "t6nTIifD9-I4"
   },
   "outputs": [],
   "source": [
    "def contraction_mapping(data):\n",
    "    tokens=data.split() # we required single words for contraction_mapping\n",
    "    expanded_words=[]\n",
    "    for word in tokens:\n",
    "        expanded_words.append(contractions.fix(word))\n",
    "    expanded_text=\" \".join(expanded_words)\n",
    "    return expanded_text"
   ]
  },
  {
   "cell_type": "code",
   "execution_count": 32,
   "metadata": {
    "id": "C2fy6DEcBIVG"
   },
   "outputs": [],
   "source": [
    "train_clean_text=train_clean_text.apply(contraction_mapping)\n",
    "test_clean_text=test_clean_text.apply(contraction_mapping)"
   ]
  },
  {
   "cell_type": "code",
   "execution_count": 33,
   "metadata": {
    "colab": {
     "base_uri": "https://localhost:8080/"
    },
    "id": "OofmIEONBIXo",
    "outputId": "7ca6cf2d-4a70-468c-85ca-9f9e824bb425"
   },
   "outputs": [
    {
     "data": {
      "text/plain": [
       "13400    Amazing! From the food to the service to the a...\n",
       "883      I am not sure how this place has so few rating...\n",
       "7303     What a terrible experience.When my friend and ...\n",
       "45125    I should say that I consider myself a foodie. ...\n",
       "874      How can you not seriously love this place? For...\n",
       "                               ...                        \n",
       "11284    I am normally a fan of Rachel's Kitchen, but t...\n",
       "44732    We booked the limo service for our weekend tri...\n",
       "38158    Love the meat but everything else is super exp...\n",
       "860      I realized when I was preparing to deploy over...\n",
       "15795    LOVE Pink Box!!!! We had them cater a doughnut...\n",
       "Name: text, Length: 37500, dtype: object"
      ]
     },
     "execution_count": 33,
     "metadata": {},
     "output_type": "execute_result"
    }
   ],
   "source": [
    "train_clean_text"
   ]
  },
  {
   "cell_type": "markdown",
   "metadata": {
    "id": "JtkjieuuBYWd"
   },
   "source": [
    "###### 5. Cleaning Punctuation Stopwords\n",
    "first of all we need to remove neagtive words from stopwrds because in our data set main review is positive and negative"
   ]
  },
  {
   "cell_type": "code",
   "execution_count": 34,
   "metadata": {
    "colab": {
     "base_uri": "https://localhost:8080/"
    },
    "id": "sEWfINP5C5CV",
    "outputId": "72c1537c-e2e0-4aea-db13-1c9d37c0c7a2"
   },
   "outputs": [
    {
     "name": "stderr",
     "output_type": "stream",
     "text": [
      "[nltk_data] Downloading package stopwords to /root/nltk_data...\n",
      "[nltk_data]   Unzipping corpora/stopwords.zip.\n"
     ]
    }
   ],
   "source": [
    "import nltk\n",
    "nltk.download('stopwords')\n",
    "from nltk.corpus import stopwords"
   ]
  },
  {
   "cell_type": "code",
   "execution_count": 35,
   "metadata": {
    "id": "LSNKaMYTBIac"
   },
   "outputs": [],
   "source": [
    "stop = stopwords.words('english')\n",
    "stop.remove('no')\n",
    "stop.remove('nor')\n",
    "stop.remove('not')\n",
    "\n",
    "def clean_data(text):\n",
    "    tokens = RegexpTokenizer(r'\\w+').tokenize(text) # '\\w+' alphabetics words\n",
    "    text_without_stop = [word for word in tokens if word not in stop]\n",
    "    final_text = []\n",
    "    for word in text_without_stop :\n",
    "        if ((len(word)<2) or (word in punctuation)):\n",
    "            pass\n",
    "        else :\n",
    "            final_text.append(word)\n",
    "    text = \" \".join(final_text)\n",
    "    return text"
   ]
  },
  {
   "cell_type": "code",
   "execution_count": 36,
   "metadata": {
    "id": "yPxZfDJEBIc6"
   },
   "outputs": [],
   "source": [
    "train_clean_text=train_clean_text.apply(contraction_mapping)\n",
    "test_clean_text=test_clean_text.apply(contraction_mapping)"
   ]
  },
  {
   "cell_type": "code",
   "execution_count": 37,
   "metadata": {
    "colab": {
     "base_uri": "https://localhost:8080/"
    },
    "id": "i2pxYHzVBIfj",
    "outputId": "c6163bd6-c842-4ff2-990f-b5c3daba5174"
   },
   "outputs": [
    {
     "data": {
      "text/plain": [
       "13400    Amazing! From the food to the service to the a...\n",
       "883      I am not sure how this place has so few rating...\n",
       "7303     What a terrible experience.When my friend and ...\n",
       "45125    I should say that I consider myself a foodie. ...\n",
       "874      How can you not seriously love this place? For...\n",
       "                               ...                        \n",
       "11284    I am normally a fan of Rachel's Kitchen, but t...\n",
       "44732    We booked the limo service for our weekend tri...\n",
       "38158    Love the meat but everything else is super exp...\n",
       "860      I realized when I was preparing to deploy over...\n",
       "15795    LOVE Pink Box!!!! We had them cater a doughnut...\n",
       "Name: text, Length: 37500, dtype: object"
      ]
     },
     "execution_count": 37,
     "metadata": {},
     "output_type": "execute_result"
    }
   ],
   "source": [
    "train_clean_text"
   ]
  },
  {
   "cell_type": "markdown",
   "metadata": {
    "id": "w0mJ5HxpB-Mc"
   },
   "source": [
    "###### 6. Autocorrect"
   ]
  },
  {
   "cell_type": "code",
   "execution_count": 38,
   "metadata": {
    "id": "afCi9EqnB6eO"
   },
   "outputs": [],
   "source": [
    "def spelling_correction(data):\n",
    "    spell=Speller(lang='en')\n",
    "    correct_text=spell(data)\n",
    "    return correct_text"
   ]
  },
  {
   "cell_type": "code",
   "execution_count": 39,
   "metadata": {
    "id": "UACXQhAUB6hc"
   },
   "outputs": [],
   "source": [
    "# train_clean_text = train_clean_text.apply(spelling_correction)\n",
    "# test_clean_text = test_clean_text.apply(spelling_correction)"
   ]
  },
  {
   "cell_type": "code",
   "execution_count": 40,
   "metadata": {
    "id": "ubpoyNb-B6mY"
   },
   "outputs": [],
   "source": [
    "# train_clean_text"
   ]
  },
  {
   "cell_type": "markdown",
   "metadata": {
    "id": "9UppUNDdCY46"
   },
   "source": [
    "###### 7. Stemming or Lemmatization"
   ]
  },
  {
   "cell_type": "code",
   "execution_count": 41,
   "metadata": {
    "id": "FPWtSWrQB6pC"
   },
   "outputs": [],
   "source": [
    "def lemmatization(data):\n",
    "    tokens=word_tokenize(data)\n",
    "    tokens=[word.lower() for word in tokens if word.isalpha()]\n",
    "    lemma=WordNetLemmatizer()\n",
    "    final_text=[]\n",
    "    for i in tokens:\n",
    "        lemmatized_word=lemma.lemmatize(i)\n",
    "        final_text.append(lemmatized_word)\n",
    "    return \" \".join(final_text)"
   ]
  },
  {
   "cell_type": "code",
   "execution_count": 42,
   "metadata": {
    "colab": {
     "base_uri": "https://localhost:8080/"
    },
    "id": "PgEnMeCuPbkl",
    "outputId": "4f61b9ef-168e-47a4-c4ca-978f6c5e1d45"
   },
   "outputs": [
    {
     "name": "stderr",
     "output_type": "stream",
     "text": [
      "[nltk_data] Downloading package punkt to /root/nltk_data...\n",
      "[nltk_data]   Unzipping tokenizers/punkt.zip.\n"
     ]
    },
    {
     "data": {
      "text/plain": [
       "True"
      ]
     },
     "execution_count": 42,
     "metadata": {},
     "output_type": "execute_result"
    }
   ],
   "source": [
    "nltk.download('punkt')"
   ]
  },
  {
   "cell_type": "code",
   "execution_count": 43,
   "metadata": {
    "colab": {
     "base_uri": "https://localhost:8080/"
    },
    "id": "OfhfZFvgQFSV",
    "outputId": "505c5d20-2ebb-444b-c079-95feb13d0a94"
   },
   "outputs": [
    {
     "name": "stderr",
     "output_type": "stream",
     "text": [
      "[nltk_data] Downloading package wordnet to /root/nltk_data...\n"
     ]
    },
    {
     "data": {
      "text/plain": [
       "True"
      ]
     },
     "execution_count": 43,
     "metadata": {},
     "output_type": "execute_result"
    }
   ],
   "source": [
    "nltk.download('wordnet')"
   ]
  },
  {
   "cell_type": "code",
   "execution_count": 44,
   "metadata": {
    "id": "oUl4bEfa9-MC"
   },
   "outputs": [],
   "source": [
    "train_clean_text = train_clean_text.apply(lemmatization)\n",
    "test_clean_text = test_clean_text.apply(lemmatization)"
   ]
  },
  {
   "cell_type": "code",
   "execution_count": 45,
   "metadata": {
    "colab": {
     "base_uri": "https://localhost:8080/"
    },
    "id": "1kr3YuhqCeFx",
    "outputId": "b44acab4-8a31-4430-fe69-55968a3967ed"
   },
   "outputs": [
    {
     "data": {
      "text/plain": [
       "13400    amazing from the food to the service to the am...\n",
       "883      i am not sure how this place ha so few rating ...\n",
       "7303     what a terrible my friend and i first arrived ...\n",
       "45125    i should say that i consider myself a foodie i...\n",
       "874      how can you not seriously love this place for ...\n",
       "                               ...                        \n",
       "11284    i am normally a fan of rachel kitchen but toni...\n",
       "44732    we booked the limo service for our weekend tri...\n",
       "38158    love the meat but everything else is super exp...\n",
       "860      i realized when i wa preparing to deploy overs...\n",
       "15795    love pink box we had them cater a doughnut bar...\n",
       "Name: text, Length: 37500, dtype: object"
      ]
     },
     "execution_count": 45,
     "metadata": {},
     "output_type": "execute_result"
    }
   ],
   "source": [
    "train_clean_text"
   ]
  },
  {
   "cell_type": "markdown",
   "metadata": {
    "id": "xRaB7RMHClzV"
   },
   "source": [
    "### Word Embedding (Feature Engineering)"
   ]
  },
  {
   "cell_type": "markdown",
   "metadata": {
    "id": "srjlcYNoE1Xq"
   },
   "source": [
    "### 1. CountVectorizer"
   ]
  },
  {
   "cell_type": "code",
   "execution_count": 46,
   "metadata": {
    "id": "Os3wxgN7CeI_"
   },
   "outputs": [],
   "source": [
    "count=CountVectorizer(max_df=0.95,max_features=1000,lowercase=True)"
   ]
  },
  {
   "cell_type": "code",
   "execution_count": 47,
   "metadata": {
    "id": "uCVzKyMaCeLp"
   },
   "outputs": [],
   "source": [
    "count_val_train=count.fit_transform(train_clean_text)\n",
    "count_val_test=count.transform(test_clean_text)"
   ]
  },
  {
   "cell_type": "code",
   "execution_count": 48,
   "metadata": {
    "colab": {
     "base_uri": "https://localhost:8080/"
    },
    "id": "brT5y_MxCeOh",
    "outputId": "07973297-5339-4084-9d3f-471997fd3b88"
   },
   "outputs": [
    {
     "data": {
      "text/plain": [
       "<37500x1000 sparse matrix of type '<class 'numpy.int64'>'\n",
       "\twith 2118650 stored elements in Compressed Sparse Row format>"
      ]
     },
     "execution_count": 48,
     "metadata": {},
     "output_type": "execute_result"
    }
   ],
   "source": [
    "count_val_train"
   ]
  },
  {
   "cell_type": "code",
   "execution_count": 49,
   "metadata": {
    "colab": {
     "base_uri": "https://localhost:8080/"
    },
    "id": "_S2EEMf1FALF",
    "outputId": "37126545-0e14-468f-a57c-14e15fb2c633"
   },
   "outputs": [
    {
     "data": {
      "text/plain": [
       "array([[0, 1, 0, ..., 0, 0, 0],\n",
       "       [0, 1, 0, ..., 0, 0, 0],\n",
       "       [0, 1, 0, ..., 0, 0, 0],\n",
       "       ...,\n",
       "       [0, 0, 0, ..., 0, 0, 0],\n",
       "       [1, 1, 0, ..., 0, 0, 0],\n",
       "       [0, 0, 0, ..., 0, 0, 0]])"
      ]
     },
     "execution_count": 49,
     "metadata": {},
     "output_type": "execute_result"
    }
   ],
   "source": [
    "count_val_train.A # convert/sparse matrix to array"
   ]
  },
  {
   "cell_type": "code",
   "execution_count": 50,
   "metadata": {
    "colab": {
     "base_uri": "https://localhost:8080/",
     "height": 467
    },
    "id": "3xziheh1FAOD",
    "outputId": "4e7cad83-eeda-4318-d588-7ac7a6f23af2"
   },
   "outputs": [
    {
     "data": {
      "text/html": [
       "\n",
       "\n",
       "  <div id=\"df-d6a17073-426d-4eb7-8cdb-0b40ce43c7c5\">\n",
       "    <div class=\"colab-df-container\">\n",
       "      <div>\n",
       "<style scoped>\n",
       "    .dataframe tbody tr th:only-of-type {\n",
       "        vertical-align: middle;\n",
       "    }\n",
       "\n",
       "    .dataframe tbody tr th {\n",
       "        vertical-align: top;\n",
       "    }\n",
       "\n",
       "    .dataframe thead th {\n",
       "        text-align: right;\n",
       "    }\n",
       "</style>\n",
       "<table border=\"1\" class=\"dataframe\">\n",
       "  <thead>\n",
       "    <tr style=\"text-align: right;\">\n",
       "      <th></th>\n",
       "      <th>able</th>\n",
       "      <th>about</th>\n",
       "      <th>above</th>\n",
       "      <th>absolutely</th>\n",
       "      <th>across</th>\n",
       "      <th>actually</th>\n",
       "      <th>add</th>\n",
       "      <th>added</th>\n",
       "      <th>addition</th>\n",
       "      <th>after</th>\n",
       "      <th>...</th>\n",
       "      <th>year</th>\n",
       "      <th>yelp</th>\n",
       "      <th>yes</th>\n",
       "      <th>yet</th>\n",
       "      <th>you</th>\n",
       "      <th>young</th>\n",
       "      <th>your</th>\n",
       "      <th>yourself</th>\n",
       "      <th>yum</th>\n",
       "      <th>yummy</th>\n",
       "    </tr>\n",
       "  </thead>\n",
       "  <tbody>\n",
       "    <tr>\n",
       "      <th>0</th>\n",
       "      <td>0</td>\n",
       "      <td>1</td>\n",
       "      <td>0</td>\n",
       "      <td>0</td>\n",
       "      <td>0</td>\n",
       "      <td>0</td>\n",
       "      <td>0</td>\n",
       "      <td>0</td>\n",
       "      <td>0</td>\n",
       "      <td>0</td>\n",
       "      <td>...</td>\n",
       "      <td>0</td>\n",
       "      <td>0</td>\n",
       "      <td>0</td>\n",
       "      <td>0</td>\n",
       "      <td>0</td>\n",
       "      <td>0</td>\n",
       "      <td>1</td>\n",
       "      <td>0</td>\n",
       "      <td>0</td>\n",
       "      <td>0</td>\n",
       "    </tr>\n",
       "    <tr>\n",
       "      <th>1</th>\n",
       "      <td>0</td>\n",
       "      <td>1</td>\n",
       "      <td>0</td>\n",
       "      <td>0</td>\n",
       "      <td>0</td>\n",
       "      <td>0</td>\n",
       "      <td>0</td>\n",
       "      <td>0</td>\n",
       "      <td>0</td>\n",
       "      <td>1</td>\n",
       "      <td>...</td>\n",
       "      <td>0</td>\n",
       "      <td>0</td>\n",
       "      <td>0</td>\n",
       "      <td>1</td>\n",
       "      <td>1</td>\n",
       "      <td>0</td>\n",
       "      <td>0</td>\n",
       "      <td>0</td>\n",
       "      <td>0</td>\n",
       "      <td>0</td>\n",
       "    </tr>\n",
       "    <tr>\n",
       "      <th>2</th>\n",
       "      <td>0</td>\n",
       "      <td>1</td>\n",
       "      <td>0</td>\n",
       "      <td>0</td>\n",
       "      <td>0</td>\n",
       "      <td>0</td>\n",
       "      <td>0</td>\n",
       "      <td>0</td>\n",
       "      <td>0</td>\n",
       "      <td>0</td>\n",
       "      <td>...</td>\n",
       "      <td>0</td>\n",
       "      <td>0</td>\n",
       "      <td>0</td>\n",
       "      <td>0</td>\n",
       "      <td>0</td>\n",
       "      <td>0</td>\n",
       "      <td>0</td>\n",
       "      <td>0</td>\n",
       "      <td>0</td>\n",
       "      <td>0</td>\n",
       "    </tr>\n",
       "    <tr>\n",
       "      <th>3</th>\n",
       "      <td>0</td>\n",
       "      <td>1</td>\n",
       "      <td>0</td>\n",
       "      <td>0</td>\n",
       "      <td>0</td>\n",
       "      <td>0</td>\n",
       "      <td>0</td>\n",
       "      <td>0</td>\n",
       "      <td>0</td>\n",
       "      <td>1</td>\n",
       "      <td>...</td>\n",
       "      <td>0</td>\n",
       "      <td>0</td>\n",
       "      <td>0</td>\n",
       "      <td>0</td>\n",
       "      <td>0</td>\n",
       "      <td>0</td>\n",
       "      <td>0</td>\n",
       "      <td>0</td>\n",
       "      <td>0</td>\n",
       "      <td>0</td>\n",
       "    </tr>\n",
       "    <tr>\n",
       "      <th>4</th>\n",
       "      <td>0</td>\n",
       "      <td>1</td>\n",
       "      <td>0</td>\n",
       "      <td>0</td>\n",
       "      <td>0</td>\n",
       "      <td>0</td>\n",
       "      <td>0</td>\n",
       "      <td>0</td>\n",
       "      <td>0</td>\n",
       "      <td>0</td>\n",
       "      <td>...</td>\n",
       "      <td>0</td>\n",
       "      <td>0</td>\n",
       "      <td>0</td>\n",
       "      <td>0</td>\n",
       "      <td>10</td>\n",
       "      <td>0</td>\n",
       "      <td>0</td>\n",
       "      <td>0</td>\n",
       "      <td>0</td>\n",
       "      <td>0</td>\n",
       "    </tr>\n",
       "    <tr>\n",
       "      <th>...</th>\n",
       "      <td>...</td>\n",
       "      <td>...</td>\n",
       "      <td>...</td>\n",
       "      <td>...</td>\n",
       "      <td>...</td>\n",
       "      <td>...</td>\n",
       "      <td>...</td>\n",
       "      <td>...</td>\n",
       "      <td>...</td>\n",
       "      <td>...</td>\n",
       "      <td>...</td>\n",
       "      <td>...</td>\n",
       "      <td>...</td>\n",
       "      <td>...</td>\n",
       "      <td>...</td>\n",
       "      <td>...</td>\n",
       "      <td>...</td>\n",
       "      <td>...</td>\n",
       "      <td>...</td>\n",
       "      <td>...</td>\n",
       "      <td>...</td>\n",
       "    </tr>\n",
       "    <tr>\n",
       "      <th>37495</th>\n",
       "      <td>0</td>\n",
       "      <td>0</td>\n",
       "      <td>0</td>\n",
       "      <td>0</td>\n",
       "      <td>0</td>\n",
       "      <td>0</td>\n",
       "      <td>0</td>\n",
       "      <td>0</td>\n",
       "      <td>0</td>\n",
       "      <td>0</td>\n",
       "      <td>...</td>\n",
       "      <td>0</td>\n",
       "      <td>0</td>\n",
       "      <td>0</td>\n",
       "      <td>0</td>\n",
       "      <td>0</td>\n",
       "      <td>0</td>\n",
       "      <td>0</td>\n",
       "      <td>0</td>\n",
       "      <td>0</td>\n",
       "      <td>0</td>\n",
       "    </tr>\n",
       "    <tr>\n",
       "      <th>37496</th>\n",
       "      <td>0</td>\n",
       "      <td>0</td>\n",
       "      <td>0</td>\n",
       "      <td>0</td>\n",
       "      <td>0</td>\n",
       "      <td>0</td>\n",
       "      <td>0</td>\n",
       "      <td>0</td>\n",
       "      <td>0</td>\n",
       "      <td>0</td>\n",
       "      <td>...</td>\n",
       "      <td>0</td>\n",
       "      <td>0</td>\n",
       "      <td>0</td>\n",
       "      <td>0</td>\n",
       "      <td>0</td>\n",
       "      <td>0</td>\n",
       "      <td>0</td>\n",
       "      <td>0</td>\n",
       "      <td>0</td>\n",
       "      <td>0</td>\n",
       "    </tr>\n",
       "    <tr>\n",
       "      <th>37497</th>\n",
       "      <td>0</td>\n",
       "      <td>0</td>\n",
       "      <td>0</td>\n",
       "      <td>0</td>\n",
       "      <td>0</td>\n",
       "      <td>0</td>\n",
       "      <td>0</td>\n",
       "      <td>0</td>\n",
       "      <td>0</td>\n",
       "      <td>0</td>\n",
       "      <td>...</td>\n",
       "      <td>0</td>\n",
       "      <td>0</td>\n",
       "      <td>0</td>\n",
       "      <td>0</td>\n",
       "      <td>3</td>\n",
       "      <td>0</td>\n",
       "      <td>0</td>\n",
       "      <td>0</td>\n",
       "      <td>0</td>\n",
       "      <td>0</td>\n",
       "    </tr>\n",
       "    <tr>\n",
       "      <th>37498</th>\n",
       "      <td>1</td>\n",
       "      <td>1</td>\n",
       "      <td>0</td>\n",
       "      <td>0</td>\n",
       "      <td>0</td>\n",
       "      <td>1</td>\n",
       "      <td>0</td>\n",
       "      <td>0</td>\n",
       "      <td>0</td>\n",
       "      <td>0</td>\n",
       "      <td>...</td>\n",
       "      <td>0</td>\n",
       "      <td>0</td>\n",
       "      <td>0</td>\n",
       "      <td>0</td>\n",
       "      <td>1</td>\n",
       "      <td>0</td>\n",
       "      <td>0</td>\n",
       "      <td>0</td>\n",
       "      <td>0</td>\n",
       "      <td>0</td>\n",
       "    </tr>\n",
       "    <tr>\n",
       "      <th>37499</th>\n",
       "      <td>0</td>\n",
       "      <td>0</td>\n",
       "      <td>0</td>\n",
       "      <td>0</td>\n",
       "      <td>0</td>\n",
       "      <td>0</td>\n",
       "      <td>0</td>\n",
       "      <td>0</td>\n",
       "      <td>0</td>\n",
       "      <td>0</td>\n",
       "      <td>...</td>\n",
       "      <td>0</td>\n",
       "      <td>0</td>\n",
       "      <td>0</td>\n",
       "      <td>0</td>\n",
       "      <td>0</td>\n",
       "      <td>0</td>\n",
       "      <td>0</td>\n",
       "      <td>0</td>\n",
       "      <td>0</td>\n",
       "      <td>0</td>\n",
       "    </tr>\n",
       "  </tbody>\n",
       "</table>\n",
       "<p>37500 rows × 1000 columns</p>\n",
       "</div>\n",
       "      <button class=\"colab-df-convert\" onclick=\"convertToInteractive('df-d6a17073-426d-4eb7-8cdb-0b40ce43c7c5')\"\n",
       "              title=\"Convert this dataframe to an interactive table.\"\n",
       "              style=\"display:none;\">\n",
       "\n",
       "  <svg xmlns=\"http://www.w3.org/2000/svg\" height=\"24px\"viewBox=\"0 0 24 24\"\n",
       "       width=\"24px\">\n",
       "    <path d=\"M0 0h24v24H0V0z\" fill=\"none\"/>\n",
       "    <path d=\"M18.56 5.44l.94 2.06.94-2.06 2.06-.94-2.06-.94-.94-2.06-.94 2.06-2.06.94zm-11 1L8.5 8.5l.94-2.06 2.06-.94-2.06-.94L8.5 2.5l-.94 2.06-2.06.94zm10 10l.94 2.06.94-2.06 2.06-.94-2.06-.94-.94-2.06-.94 2.06-2.06.94z\"/><path d=\"M17.41 7.96l-1.37-1.37c-.4-.4-.92-.59-1.43-.59-.52 0-1.04.2-1.43.59L10.3 9.45l-7.72 7.72c-.78.78-.78 2.05 0 2.83L4 21.41c.39.39.9.59 1.41.59.51 0 1.02-.2 1.41-.59l7.78-7.78 2.81-2.81c.8-.78.8-2.07 0-2.86zM5.41 20L4 18.59l7.72-7.72 1.47 1.35L5.41 20z\"/>\n",
       "  </svg>\n",
       "      </button>\n",
       "\n",
       "\n",
       "\n",
       "    <div id=\"df-f0c079c4-d32a-4141-8842-a59ad59507a3\">\n",
       "      <button class=\"colab-df-quickchart\" onclick=\"quickchart('df-f0c079c4-d32a-4141-8842-a59ad59507a3')\"\n",
       "              title=\"Suggest charts.\"\n",
       "              style=\"display:none;\">\n",
       "\n",
       "<svg xmlns=\"http://www.w3.org/2000/svg\" height=\"24px\"viewBox=\"0 0 24 24\"\n",
       "     width=\"24px\">\n",
       "    <g>\n",
       "        <path d=\"M19 3H5c-1.1 0-2 .9-2 2v14c0 1.1.9 2 2 2h14c1.1 0 2-.9 2-2V5c0-1.1-.9-2-2-2zM9 17H7v-7h2v7zm4 0h-2V7h2v10zm4 0h-2v-4h2v4z\"/>\n",
       "    </g>\n",
       "</svg>\n",
       "      </button>\n",
       "    </div>\n",
       "\n",
       "<style>\n",
       "  .colab-df-quickchart {\n",
       "    background-color: #E8F0FE;\n",
       "    border: none;\n",
       "    border-radius: 50%;\n",
       "    cursor: pointer;\n",
       "    display: none;\n",
       "    fill: #1967D2;\n",
       "    height: 32px;\n",
       "    padding: 0 0 0 0;\n",
       "    width: 32px;\n",
       "  }\n",
       "\n",
       "  .colab-df-quickchart:hover {\n",
       "    background-color: #E2EBFA;\n",
       "    box-shadow: 0px 1px 2px rgba(60, 64, 67, 0.3), 0px 1px 3px 1px rgba(60, 64, 67, 0.15);\n",
       "    fill: #174EA6;\n",
       "  }\n",
       "\n",
       "  [theme=dark] .colab-df-quickchart {\n",
       "    background-color: #3B4455;\n",
       "    fill: #D2E3FC;\n",
       "  }\n",
       "\n",
       "  [theme=dark] .colab-df-quickchart:hover {\n",
       "    background-color: #434B5C;\n",
       "    box-shadow: 0px 1px 3px 1px rgba(0, 0, 0, 0.15);\n",
       "    filter: drop-shadow(0px 1px 2px rgba(0, 0, 0, 0.3));\n",
       "    fill: #FFFFFF;\n",
       "  }\n",
       "</style>\n",
       "\n",
       "    <script>\n",
       "      async function quickchart(key) {\n",
       "        const containerElement = document.querySelector('#' + key);\n",
       "        const charts = await google.colab.kernel.invokeFunction(\n",
       "            'suggestCharts', [key], {});\n",
       "      }\n",
       "    </script>\n",
       "\n",
       "      <script>\n",
       "\n",
       "function displayQuickchartButton(domScope) {\n",
       "  let quickchartButtonEl =\n",
       "    domScope.querySelector('#df-f0c079c4-d32a-4141-8842-a59ad59507a3 button.colab-df-quickchart');\n",
       "  quickchartButtonEl.style.display =\n",
       "    google.colab.kernel.accessAllowed ? 'block' : 'none';\n",
       "}\n",
       "\n",
       "        displayQuickchartButton(document);\n",
       "      </script>\n",
       "      <style>\n",
       "    .colab-df-container {\n",
       "      display:flex;\n",
       "      flex-wrap:wrap;\n",
       "      gap: 12px;\n",
       "    }\n",
       "\n",
       "    .colab-df-convert {\n",
       "      background-color: #E8F0FE;\n",
       "      border: none;\n",
       "      border-radius: 50%;\n",
       "      cursor: pointer;\n",
       "      display: none;\n",
       "      fill: #1967D2;\n",
       "      height: 32px;\n",
       "      padding: 0 0 0 0;\n",
       "      width: 32px;\n",
       "    }\n",
       "\n",
       "    .colab-df-convert:hover {\n",
       "      background-color: #E2EBFA;\n",
       "      box-shadow: 0px 1px 2px rgba(60, 64, 67, 0.3), 0px 1px 3px 1px rgba(60, 64, 67, 0.15);\n",
       "      fill: #174EA6;\n",
       "    }\n",
       "\n",
       "    [theme=dark] .colab-df-convert {\n",
       "      background-color: #3B4455;\n",
       "      fill: #D2E3FC;\n",
       "    }\n",
       "\n",
       "    [theme=dark] .colab-df-convert:hover {\n",
       "      background-color: #434B5C;\n",
       "      box-shadow: 0px 1px 3px 1px rgba(0, 0, 0, 0.15);\n",
       "      filter: drop-shadow(0px 1px 2px rgba(0, 0, 0, 0.3));\n",
       "      fill: #FFFFFF;\n",
       "    }\n",
       "  </style>\n",
       "\n",
       "      <script>\n",
       "        const buttonEl =\n",
       "          document.querySelector('#df-d6a17073-426d-4eb7-8cdb-0b40ce43c7c5 button.colab-df-convert');\n",
       "        buttonEl.style.display =\n",
       "          google.colab.kernel.accessAllowed ? 'block' : 'none';\n",
       "\n",
       "        async function convertToInteractive(key) {\n",
       "          const element = document.querySelector('#df-d6a17073-426d-4eb7-8cdb-0b40ce43c7c5');\n",
       "          const dataTable =\n",
       "            await google.colab.kernel.invokeFunction('convertToInteractive',\n",
       "                                                     [key], {});\n",
       "          if (!dataTable) return;\n",
       "\n",
       "          const docLinkHtml = 'Like what you see? Visit the ' +\n",
       "            '<a target=\"_blank\" href=https://colab.research.google.com/notebooks/data_table.ipynb>data table notebook</a>'\n",
       "            + ' to learn more about interactive tables.';\n",
       "          element.innerHTML = '';\n",
       "          dataTable['output_type'] = 'display_data';\n",
       "          await google.colab.output.renderOutput(dataTable, element);\n",
       "          const docLink = document.createElement('div');\n",
       "          docLink.innerHTML = docLinkHtml;\n",
       "          element.appendChild(docLink);\n",
       "        }\n",
       "      </script>\n",
       "    </div>\n",
       "  </div>\n"
      ],
      "text/plain": [
       "       able  about  above  absolutely  across  actually  add  added  addition  \\\n",
       "0         0      1      0           0       0         0    0      0         0   \n",
       "1         0      1      0           0       0         0    0      0         0   \n",
       "2         0      1      0           0       0         0    0      0         0   \n",
       "3         0      1      0           0       0         0    0      0         0   \n",
       "4         0      1      0           0       0         0    0      0         0   \n",
       "...     ...    ...    ...         ...     ...       ...  ...    ...       ...   \n",
       "37495     0      0      0           0       0         0    0      0         0   \n",
       "37496     0      0      0           0       0         0    0      0         0   \n",
       "37497     0      0      0           0       0         0    0      0         0   \n",
       "37498     1      1      0           0       0         1    0      0         0   \n",
       "37499     0      0      0           0       0         0    0      0         0   \n",
       "\n",
       "       after  ...  year  yelp  yes  yet  you  young  your  yourself  yum  \\\n",
       "0          0  ...     0     0    0    0    0      0     1         0    0   \n",
       "1          1  ...     0     0    0    1    1      0     0         0    0   \n",
       "2          0  ...     0     0    0    0    0      0     0         0    0   \n",
       "3          1  ...     0     0    0    0    0      0     0         0    0   \n",
       "4          0  ...     0     0    0    0   10      0     0         0    0   \n",
       "...      ...  ...   ...   ...  ...  ...  ...    ...   ...       ...  ...   \n",
       "37495      0  ...     0     0    0    0    0      0     0         0    0   \n",
       "37496      0  ...     0     0    0    0    0      0     0         0    0   \n",
       "37497      0  ...     0     0    0    0    3      0     0         0    0   \n",
       "37498      0  ...     0     0    0    0    1      0     0         0    0   \n",
       "37499      0  ...     0     0    0    0    0      0     0         0    0   \n",
       "\n",
       "       yummy  \n",
       "0          0  \n",
       "1          0  \n",
       "2          0  \n",
       "3          0  \n",
       "4          0  \n",
       "...      ...  \n",
       "37495      0  \n",
       "37496      0  \n",
       "37497      0  \n",
       "37498      0  \n",
       "37499      0  \n",
       "\n",
       "[37500 rows x 1000 columns]"
      ]
     },
     "execution_count": 50,
     "metadata": {},
     "output_type": "execute_result"
    }
   ],
   "source": [
    "# Now we will see the above count vectorizer output in dataframe\n",
    "\n",
    "pd.DataFrame(count_val_train.A, columns=count.get_feature_names_out())"
   ]
  },
  {
   "cell_type": "code",
   "execution_count": 51,
   "metadata": {
    "colab": {
     "base_uri": "https://localhost:8080/"
    },
    "id": "9YpcN5L1FASZ",
    "outputId": "b0d1db49-08e2-4003-da59-9292beb908ba"
   },
   "outputs": [
    {
     "data": {
      "text/plain": [
       "1000"
      ]
     },
     "execution_count": 51,
     "metadata": {},
     "output_type": "execute_result"
    }
   ],
   "source": [
    "len(count.get_feature_names_out())"
   ]
  },
  {
   "cell_type": "code",
   "execution_count": 52,
   "metadata": {
    "colab": {
     "base_uri": "https://localhost:8080/"
    },
    "id": "8CCXC6crFAWR",
    "outputId": "da5e95b4-d088-479b-ba23-9152b6015891"
   },
   "outputs": [
    {
     "data": {
      "text/plain": [
       "array(['able', 'about', 'above', 'absolutely', 'across', 'actually',\n",
       "       'add', 'added', 'addition', 'after', 'afternoon', 'again', 'ago',\n",
       "       'ahead', 'airport', 'all', 'almost', 'along', 'already', 'also',\n",
       "       'although', 'always', 'am', 'amazing', 'ambiance', 'amount', 'an',\n",
       "       'and', 'another', 'any', 'anyone', 'anything', 'anyway',\n",
       "       'anywhere', 'appetizer', 'apple', 'appointment', 'appreciate',\n",
       "       'are', 'area', 'around', 'arrived', 'asian', 'ask', 'asked',\n",
       "       'asking', 'at', 'ate', 'atmosphere', 'attention', 'attentive',\n",
       "       'attitude', 'authentic', 'available', 'average', 'avoid', 'away',\n",
       "       'awesome', 'baby', 'back', 'bacon', 'bad', 'bag', 'baked', 'bar',\n",
       "       'bartender', 'based', 'basically', 'bathroom', 'bbq', 'be', 'bean',\n",
       "       'beat', 'beautiful', 'because', 'bed', 'beef', 'been', 'beer',\n",
       "       'before', 'behind', 'being', 'believe', 'best', 'better',\n",
       "       'between', 'beyond', 'big', 'bill', 'birthday', 'bit', 'bite',\n",
       "       'black', 'bland', 'book', 'both', 'bottle', 'bought', 'bowl',\n",
       "       'box', 'boy', 'boyfriend', 'bread', 'breakfast', 'bring', 'broth',\n",
       "       'brought', 'brunch', 'buck', 'buffet', 'building', 'bun', 'burger',\n",
       "       'burrito', 'business', 'busy', 'but', 'butter', 'buy', 'by',\n",
       "       'cafe', 'cake', 'call', 'called', 'came', 'can', 'car', 'card',\n",
       "       'care', 'case', 'cash', 'casino', 'center', 'certainly', 'chain',\n",
       "       'chair', 'chance', 'change', 'changed', 'charge', 'charged',\n",
       "       'cheap', 'check', 'checked', 'cheese', 'chef', 'chicken', 'child',\n",
       "       'chili', 'chinese', 'chip', 'chocolate', 'choice', 'choose',\n",
       "       'chose', 'city', 'class', 'clean', 'cleaning', 'clearly', 'close',\n",
       "       'closed', 'club', 'cocktail', 'coffee', 'cold', 'color', 'combo',\n",
       "       'come', 'comfortable', 'coming', 'company', 'compared',\n",
       "       'complaint', 'completely', 'considering', 'convenient', 'cook',\n",
       "       'cooked', 'cool', 'corn', 'corner', 'cost', 'could', 'counter',\n",
       "       'couple', 'coupon', 'course', 'crab', 'craving', 'crazy', 'cream',\n",
       "       'creamy', 'credit', 'crispy', 'crowd', 'crowded', 'crust', 'cup',\n",
       "       'curry', 'customer', 'cut', 'cute', 'dark', 'date', 'daughter',\n",
       "       'day', 'de', 'deal', 'decent', 'decided', 'decor', 'definitely',\n",
       "       'delicious', 'delivery', 'desk', 'despite', 'dessert', 'detail',\n",
       "       'did', 'die', 'different', 'dining', 'dinner', 'dip', 'dirty',\n",
       "       'disappointed', 'disappointing', 'dish', 'do', 'doctor', 'doe',\n",
       "       'dog', 'doing', 'dollar', 'done', 'donut', 'door', 'down',\n",
       "       'downtown', 'dressing', 'drink', 'drive', 'dry', 'due', 'during',\n",
       "       'each', 'early', 'easily', 'easy', 'eat', 'eaten', 'eating', 'egg',\n",
       "       'either', 'else', 'employee', 'empty', 'end', 'ended', 'enjoy',\n",
       "       'enjoyed', 'enough', 'entire', 'entree', 'especially',\n",
       "       'establishment', 'et', 'etc', 'even', 'evening', 'event', 'ever',\n",
       "       'every', 'everyone', 'everything', 'exactly', 'excellent',\n",
       "       'except', 'excited', 'expect', 'expectation', 'expected',\n",
       "       'expecting', 'expensive', 'experience', 'explained', 'extra',\n",
       "       'extremely', 'eye', 'face', 'fact', 'fair', 'fairly', 'family',\n",
       "       'fan', 'fancy', 'fantastic', 'far', 'fast', 'favorite', 'fee',\n",
       "       'feel', 'feeling', 'felt', 'few', 'fill', 'filled', 'filling',\n",
       "       'finally', 'find', 'fine', 'finish', 'finished', 'first', 'fish',\n",
       "       'five', 'fix', 'fixed', 'flavor', 'flavorful', 'flavour', 'floor',\n",
       "       'food', 'foot', 'for', 'forward', 'found', 'four', 'free',\n",
       "       'french', 'fresh', 'friday', 'fried', 'friend', 'friendly', 'from',\n",
       "       'front', 'frozen', 'fruit', 'fry', 'full', 'fun', 'future', 'game',\n",
       "       'garlic', 'gave', 'gem', 'generous', 'get', 'getting', 'girl',\n",
       "       'give', 'given', 'giving', 'glad', 'glass', 'go', 'going', 'gone',\n",
       "       'good', 'got', 'gotten', 'grab', 'greasy', 'great', 'green',\n",
       "       'greeted', 'grilled', 'group', 'guess', 'guest', 'guy', 'gym',\n",
       "       'ha', 'had', 'hair', 'half', 'hand', 'happened', 'happy', 'hard',\n",
       "       'hate', 'have', 'having', 'he', 'head', 'healthy', 'hear', 'heard',\n",
       "       'help', 'helped', 'helpful', 'her', 'here', 'high', 'highly',\n",
       "       'him', 'his', 'hit', 'hold', 'home', 'homemade', 'honest',\n",
       "       'honestly', 'hope', 'horrible', 'hot', 'hotel', 'hour', 'house',\n",
       "       'how', 'however', 'huge', 'hungry', 'husband', 'ice', 'idea', 'if',\n",
       "       'immediately', 'impressed', 'in', 'included', 'including',\n",
       "       'incredible', 'incredibly', 'indian', 'ingredient', 'inside',\n",
       "       'instead', 'interesting', 'into', 'is', 'issue', 'it', 'italian',\n",
       "       'item', 'itself', 'job', 'joint', 'juice', 'juicy', 'just', 'keep',\n",
       "       'kept', 'kid', 'kind', 'kitchen', 'knew', 'know', 'knowledgeable',\n",
       "       'korean', 'la', 'lack', 'lady', 'lamb', 'large', 'last', 'late',\n",
       "       'later', 'le', 'least', 'leave', 'left', 'let', 'lettuce', 'level',\n",
       "       'life', 'light', 'like', 'liked', 'limited', 'line', 'list',\n",
       "       'literally', 'little', 'live', 'lived', 'lobster', 'local',\n",
       "       'located', 'location', 'lol', 'long', 'longer', 'look', 'looked',\n",
       "       'looking', 'lot', 'loud', 'love', 'loved', 'lovely', 'low',\n",
       "       'lunch', 'mac', 'machine', 'made', 'main', 'make', 'making',\n",
       "       'mall', 'man', 'management', 'manager', 'many', 'margarita',\n",
       "       'market', 'massage', 'matter', 'may', 'maybe', 'me', 'meal',\n",
       "       'mean', 'meat', 'medium', 'member', 'mention', 'menu', 'mexican',\n",
       "       'middle', 'might', 'mile', 'milk', 'min', 'mind', 'mine', 'minute',\n",
       "       'miss', 'mix', 'mixed', 'mom', 'money', 'month', 'more', 'morning',\n",
       "       'most', 'mostly', 'mouth', 'move', 'moved', 'movie', 'much',\n",
       "       'multiple', 'mushroom', 'music', 'must', 'my', 'myself', 'nail',\n",
       "       'name', 'near', 'need', 'needed', 'negative', 'neighborhood',\n",
       "       'never', 'new', 'next', 'nice', 'night', 'no', 'noodle', 'not',\n",
       "       'note', 'nothing', 'noticed', 'now', 'number', 'of', 'off',\n",
       "       'offer', 'offered', 'office', 'often', 'oh', 'oil', 'ok', 'okay',\n",
       "       'old', 'on', 'once', 'one', 'onion', 'online', 'only', 'open',\n",
       "       'opened', 'opinion', 'option', 'or', 'order', 'ordered',\n",
       "       'ordering', 'other', 'others', 'our', 'out', 'outside',\n",
       "       'outstanding', 'over', 'overall', 'overpriced', 'own', 'owner',\n",
       "       'packed', 'paid', 'pancake', 'park', 'parking', 'part', 'party',\n",
       "       'past', 'pasta', 'patient', 'patio', 'pay', 'paying', 'people',\n",
       "       'pepper', 'per', 'perfect', 'perfectly', 'person', 'personal',\n",
       "       'pho', 'phoenix', 'phone', 'photo', 'pick', 'picked', 'picture',\n",
       "       'pie', 'piece', 'pizza', 'place', 'plan', 'plate', 'play',\n",
       "       'playing', 'pleasant', 'please', 'pleased', 'plenty', 'plus',\n",
       "       'point', 'pool', 'poor', 'pork', 'portion', 'possible', 'potato',\n",
       "       'pour', 'prefer', 'prepared', 'pretty', 'price', 'priced',\n",
       "       'pricey', 'probably', 'problem', 'process', 'product',\n",
       "       'professional', 'pulled', 'purchase', 'put', 'quality', 'question',\n",
       "       'quick', 'quickly', 'quite', 'ramen', 'rather', 'rating', 'read',\n",
       "       'ready', 'real', 'really', 'reason', 'reasonable', 'received',\n",
       "       'recently', 'recommend', 'recommendation', 'recommended', 'red',\n",
       "       'regular', 'remember', 'repair', 'reservation', 'rest',\n",
       "       'restaurant', 'return', 'returning', 'review', 'rib', 'rice',\n",
       "       'right', 'rock', 'roll', 'room', 'rude', 'run', 'running', 'said',\n",
       "       'salad', 'sale', 'salmon', 'salon', 'salsa', 'salt', 'salty',\n",
       "       'same', 'sample', 'sandwich', 'sat', 'saturday', 'sauce',\n",
       "       'sausage', 'saw', 'say', 'saying', 'school', 'scottsdale',\n",
       "       'seafood', 'seasoned', 'seat', 'seated', 'seating', 'second',\n",
       "       'section', 'see', 'seeing', 'seem', 'seemed', 'seems', 'seen',\n",
       "       'selection', 'sell', 'sent', 'seriously', 'serve', 'served',\n",
       "       'server', 'service', 'serving', 'set', 'several', 'share',\n",
       "       'shared', 'she', 'shop', 'shopping', 'short', 'shot', 'should',\n",
       "       'show', 'showed', 'shrimp', 'side', 'sign', 'similar', 'simple',\n",
       "       'simply', 'since', 'single', 'sit', 'sitting', 'size', 'slice',\n",
       "       'slightly', 'slow', 'small', 'smell', 'smile', 'so', 'soft',\n",
       "       'solid', 'some', 'someone', 'something', 'sometimes', 'somewhere',\n",
       "       'son', 'soon', 'sorry', 'sort', 'sound', 'soup', 'space', 'speak',\n",
       "       'special', 'spend', 'spent', 'spice', 'spicy', 'spot', 'spring',\n",
       "       'staff', 'stand', 'standard', 'star', 'start', 'started',\n",
       "       'station', 'stay', 'stayed', 'steak', 'stick', 'still', 'stop',\n",
       "       'stopped', 'store', 'street', 'strip', 'stuff', 'stuffed', 'style',\n",
       "       'such', 'summer', 'sunday', 'super', 'sure', 'surprise',\n",
       "       'surprised', 'sushi', 'sweet', 'table', 'taco', 'take', 'taken',\n",
       "       'taking', 'talk', 'talking', 'taste', 'tasted', 'tasting', 'tasty',\n",
       "       'tea', 'team', 'tell', 'tender', 'terrible', 'texture', 'thai',\n",
       "       'than', 'thank', 'thanks', 'that', 'the', 'their', 'them', 'then',\n",
       "       'there', 'these', 'they', 'thick', 'thin', 'thing', 'think',\n",
       "       'this', 'those', 'though', 'thought', 'three', 'through', 'ticket',\n",
       "       'time', 'tiny', 'tip', 'tire', 'to', 'toast', 'today', 'together',\n",
       "       'told', 'tomato', 'ton', 'too', 'took', 'top', 'topping', 'total',\n",
       "       'totally', 'touch', 'town', 'treat', 'tried', 'trip', 'truck',\n",
       "       'true', 'truly', 'try', 'trying', 'turn', 'turned', 'tv', 'twice',\n",
       "       'two', 'type', 'typical', 'un', 'und', 'under', 'understand',\n",
       "       'unfortunately', 'unique', 'unless', 'until', 'up', 'upon', 'use',\n",
       "       'used', 'using', 'usual', 'usually', 'valley', 'value', 'variety',\n",
       "       'vega', 'vegan', 'vegetable', 'vegetarian', 'veggie', 'very',\n",
       "       'vibe', 'view', 'visit', 'visited', 'visiting', 'wa', 'waffle',\n",
       "       'wait', 'waited', 'waiter', 'waiting', 'waitress', 'walk',\n",
       "       'walked', 'walking', 'wall', 'want', 'wanted', 'warm', 'watch',\n",
       "       'water', 'way', 'we', 'wedding', 'week', 'weekend', 'weird',\n",
       "       'well', 'went', 'were', 'what', 'whatever', 'when', 'where',\n",
       "       'which', 'while', 'white', 'who', 'whole', 'why', 'wife', 'will',\n",
       "       'window', 'wine', 'wing', 'wish', 'with', 'within', 'without',\n",
       "       'woman', 'wonderful', 'word', 'work', 'worked', 'working', 'world',\n",
       "       'worst', 'worth', 'would', 'wow', 'wrap', 'write', 'wrong', 'year',\n",
       "       'yelp', 'yes', 'yet', 'you', 'young', 'your', 'yourself', 'yum',\n",
       "       'yummy'], dtype=object)"
      ]
     },
     "execution_count": 52,
     "metadata": {},
     "output_type": "execute_result"
    }
   ],
   "source": [
    "count.get_feature_names_out()"
   ]
  },
  {
   "cell_type": "markdown",
   "metadata": {
    "id": "zn5FtTRVFd59"
   },
   "source": [
    "Drawabacks:\n",
    "\n",
    "1. Course of dimentionality\n",
    "2. Does not contain syntahtic meaning of words"
   ]
  },
  {
   "cell_type": "markdown",
   "metadata": {
    "id": "kTClUa83Fm6d"
   },
   "source": [
    "### 2. TFIDF"
   ]
  },
  {
   "cell_type": "code",
   "execution_count": 53,
   "metadata": {
    "id": "A50kZDvYFZ0_"
   },
   "outputs": [],
   "source": [
    "tfidf = TfidfVectorizer(max_df=0.95,max_features=1000,lowercase=True)\n",
    "tfidf_val_train = tfidf.fit_transform(train_clean_text)\n",
    "tfidf_val_test = tfidf.transform(test_clean_text)"
   ]
  },
  {
   "cell_type": "code",
   "execution_count": 54,
   "metadata": {
    "colab": {
     "base_uri": "https://localhost:8080/",
     "height": 487
    },
    "id": "IYdpC01qFZ3p",
    "outputId": "2ba7c438-9cd2-4c29-b361-72b0196a3e81"
   },
   "outputs": [
    {
     "data": {
      "text/html": [
       "\n",
       "\n",
       "  <div id=\"df-064d385c-73b8-4b3d-b618-e3d02c3e53c4\">\n",
       "    <div class=\"colab-df-container\">\n",
       "      <div>\n",
       "<style scoped>\n",
       "    .dataframe tbody tr th:only-of-type {\n",
       "        vertical-align: middle;\n",
       "    }\n",
       "\n",
       "    .dataframe tbody tr th {\n",
       "        vertical-align: top;\n",
       "    }\n",
       "\n",
       "    .dataframe thead th {\n",
       "        text-align: right;\n",
       "    }\n",
       "</style>\n",
       "<table border=\"1\" class=\"dataframe\">\n",
       "  <thead>\n",
       "    <tr style=\"text-align: right;\">\n",
       "      <th></th>\n",
       "      <th>able</th>\n",
       "      <th>about</th>\n",
       "      <th>above</th>\n",
       "      <th>absolutely</th>\n",
       "      <th>across</th>\n",
       "      <th>actually</th>\n",
       "      <th>add</th>\n",
       "      <th>added</th>\n",
       "      <th>addition</th>\n",
       "      <th>after</th>\n",
       "      <th>...</th>\n",
       "      <th>year</th>\n",
       "      <th>yelp</th>\n",
       "      <th>yes</th>\n",
       "      <th>yet</th>\n",
       "      <th>you</th>\n",
       "      <th>young</th>\n",
       "      <th>your</th>\n",
       "      <th>yourself</th>\n",
       "      <th>yum</th>\n",
       "      <th>yummy</th>\n",
       "    </tr>\n",
       "  </thead>\n",
       "  <tbody>\n",
       "    <tr>\n",
       "      <th>0</th>\n",
       "      <td>0.000000</td>\n",
       "      <td>0.124666</td>\n",
       "      <td>0.0</td>\n",
       "      <td>0.0</td>\n",
       "      <td>0.0</td>\n",
       "      <td>0.000000</td>\n",
       "      <td>0.0</td>\n",
       "      <td>0.0</td>\n",
       "      <td>0.0</td>\n",
       "      <td>0.000000</td>\n",
       "      <td>...</td>\n",
       "      <td>0.0</td>\n",
       "      <td>0.0</td>\n",
       "      <td>0.0</td>\n",
       "      <td>0.00000</td>\n",
       "      <td>0.000000</td>\n",
       "      <td>0.0</td>\n",
       "      <td>0.134863</td>\n",
       "      <td>0.0</td>\n",
       "      <td>0.0</td>\n",
       "      <td>0.0</td>\n",
       "    </tr>\n",
       "    <tr>\n",
       "      <th>1</th>\n",
       "      <td>0.000000</td>\n",
       "      <td>0.036270</td>\n",
       "      <td>0.0</td>\n",
       "      <td>0.0</td>\n",
       "      <td>0.0</td>\n",
       "      <td>0.000000</td>\n",
       "      <td>0.0</td>\n",
       "      <td>0.0</td>\n",
       "      <td>0.0</td>\n",
       "      <td>0.042366</td>\n",
       "      <td>...</td>\n",
       "      <td>0.0</td>\n",
       "      <td>0.0</td>\n",
       "      <td>0.0</td>\n",
       "      <td>0.06429</td>\n",
       "      <td>0.026090</td>\n",
       "      <td>0.0</td>\n",
       "      <td>0.000000</td>\n",
       "      <td>0.0</td>\n",
       "      <td>0.0</td>\n",
       "      <td>0.0</td>\n",
       "    </tr>\n",
       "    <tr>\n",
       "      <th>2</th>\n",
       "      <td>0.000000</td>\n",
       "      <td>0.063481</td>\n",
       "      <td>0.0</td>\n",
       "      <td>0.0</td>\n",
       "      <td>0.0</td>\n",
       "      <td>0.000000</td>\n",
       "      <td>0.0</td>\n",
       "      <td>0.0</td>\n",
       "      <td>0.0</td>\n",
       "      <td>0.000000</td>\n",
       "      <td>...</td>\n",
       "      <td>0.0</td>\n",
       "      <td>0.0</td>\n",
       "      <td>0.0</td>\n",
       "      <td>0.00000</td>\n",
       "      <td>0.000000</td>\n",
       "      <td>0.0</td>\n",
       "      <td>0.000000</td>\n",
       "      <td>0.0</td>\n",
       "      <td>0.0</td>\n",
       "      <td>0.0</td>\n",
       "    </tr>\n",
       "    <tr>\n",
       "      <th>3</th>\n",
       "      <td>0.000000</td>\n",
       "      <td>0.075601</td>\n",
       "      <td>0.0</td>\n",
       "      <td>0.0</td>\n",
       "      <td>0.0</td>\n",
       "      <td>0.000000</td>\n",
       "      <td>0.0</td>\n",
       "      <td>0.0</td>\n",
       "      <td>0.0</td>\n",
       "      <td>0.088306</td>\n",
       "      <td>...</td>\n",
       "      <td>0.0</td>\n",
       "      <td>0.0</td>\n",
       "      <td>0.0</td>\n",
       "      <td>0.00000</td>\n",
       "      <td>0.000000</td>\n",
       "      <td>0.0</td>\n",
       "      <td>0.000000</td>\n",
       "      <td>0.0</td>\n",
       "      <td>0.0</td>\n",
       "      <td>0.0</td>\n",
       "    </tr>\n",
       "    <tr>\n",
       "      <th>4</th>\n",
       "      <td>0.000000</td>\n",
       "      <td>0.052078</td>\n",
       "      <td>0.0</td>\n",
       "      <td>0.0</td>\n",
       "      <td>0.0</td>\n",
       "      <td>0.000000</td>\n",
       "      <td>0.0</td>\n",
       "      <td>0.0</td>\n",
       "      <td>0.0</td>\n",
       "      <td>0.000000</td>\n",
       "      <td>...</td>\n",
       "      <td>0.0</td>\n",
       "      <td>0.0</td>\n",
       "      <td>0.0</td>\n",
       "      <td>0.00000</td>\n",
       "      <td>0.374608</td>\n",
       "      <td>0.0</td>\n",
       "      <td>0.000000</td>\n",
       "      <td>0.0</td>\n",
       "      <td>0.0</td>\n",
       "      <td>0.0</td>\n",
       "    </tr>\n",
       "    <tr>\n",
       "      <th>...</th>\n",
       "      <td>...</td>\n",
       "      <td>...</td>\n",
       "      <td>...</td>\n",
       "      <td>...</td>\n",
       "      <td>...</td>\n",
       "      <td>...</td>\n",
       "      <td>...</td>\n",
       "      <td>...</td>\n",
       "      <td>...</td>\n",
       "      <td>...</td>\n",
       "      <td>...</td>\n",
       "      <td>...</td>\n",
       "      <td>...</td>\n",
       "      <td>...</td>\n",
       "      <td>...</td>\n",
       "      <td>...</td>\n",
       "      <td>...</td>\n",
       "      <td>...</td>\n",
       "      <td>...</td>\n",
       "      <td>...</td>\n",
       "      <td>...</td>\n",
       "    </tr>\n",
       "    <tr>\n",
       "      <th>37495</th>\n",
       "      <td>0.000000</td>\n",
       "      <td>0.000000</td>\n",
       "      <td>0.0</td>\n",
       "      <td>0.0</td>\n",
       "      <td>0.0</td>\n",
       "      <td>0.000000</td>\n",
       "      <td>0.0</td>\n",
       "      <td>0.0</td>\n",
       "      <td>0.0</td>\n",
       "      <td>0.000000</td>\n",
       "      <td>...</td>\n",
       "      <td>0.0</td>\n",
       "      <td>0.0</td>\n",
       "      <td>0.0</td>\n",
       "      <td>0.00000</td>\n",
       "      <td>0.000000</td>\n",
       "      <td>0.0</td>\n",
       "      <td>0.000000</td>\n",
       "      <td>0.0</td>\n",
       "      <td>0.0</td>\n",
       "      <td>0.0</td>\n",
       "    </tr>\n",
       "    <tr>\n",
       "      <th>37496</th>\n",
       "      <td>0.000000</td>\n",
       "      <td>0.000000</td>\n",
       "      <td>0.0</td>\n",
       "      <td>0.0</td>\n",
       "      <td>0.0</td>\n",
       "      <td>0.000000</td>\n",
       "      <td>0.0</td>\n",
       "      <td>0.0</td>\n",
       "      <td>0.0</td>\n",
       "      <td>0.000000</td>\n",
       "      <td>...</td>\n",
       "      <td>0.0</td>\n",
       "      <td>0.0</td>\n",
       "      <td>0.0</td>\n",
       "      <td>0.00000</td>\n",
       "      <td>0.000000</td>\n",
       "      <td>0.0</td>\n",
       "      <td>0.000000</td>\n",
       "      <td>0.0</td>\n",
       "      <td>0.0</td>\n",
       "      <td>0.0</td>\n",
       "    </tr>\n",
       "    <tr>\n",
       "      <th>37497</th>\n",
       "      <td>0.000000</td>\n",
       "      <td>0.000000</td>\n",
       "      <td>0.0</td>\n",
       "      <td>0.0</td>\n",
       "      <td>0.0</td>\n",
       "      <td>0.000000</td>\n",
       "      <td>0.0</td>\n",
       "      <td>0.0</td>\n",
       "      <td>0.0</td>\n",
       "      <td>0.000000</td>\n",
       "      <td>...</td>\n",
       "      <td>0.0</td>\n",
       "      <td>0.0</td>\n",
       "      <td>0.0</td>\n",
       "      <td>0.00000</td>\n",
       "      <td>0.201936</td>\n",
       "      <td>0.0</td>\n",
       "      <td>0.000000</td>\n",
       "      <td>0.0</td>\n",
       "      <td>0.0</td>\n",
       "      <td>0.0</td>\n",
       "    </tr>\n",
       "    <tr>\n",
       "      <th>37498</th>\n",
       "      <td>0.069271</td>\n",
       "      <td>0.041297</td>\n",
       "      <td>0.0</td>\n",
       "      <td>0.0</td>\n",
       "      <td>0.0</td>\n",
       "      <td>0.063292</td>\n",
       "      <td>0.0</td>\n",
       "      <td>0.0</td>\n",
       "      <td>0.0</td>\n",
       "      <td>0.000000</td>\n",
       "      <td>...</td>\n",
       "      <td>0.0</td>\n",
       "      <td>0.0</td>\n",
       "      <td>0.0</td>\n",
       "      <td>0.00000</td>\n",
       "      <td>0.029706</td>\n",
       "      <td>0.0</td>\n",
       "      <td>0.000000</td>\n",
       "      <td>0.0</td>\n",
       "      <td>0.0</td>\n",
       "      <td>0.0</td>\n",
       "    </tr>\n",
       "    <tr>\n",
       "      <th>37499</th>\n",
       "      <td>0.000000</td>\n",
       "      <td>0.000000</td>\n",
       "      <td>0.0</td>\n",
       "      <td>0.0</td>\n",
       "      <td>0.0</td>\n",
       "      <td>0.000000</td>\n",
       "      <td>0.0</td>\n",
       "      <td>0.0</td>\n",
       "      <td>0.0</td>\n",
       "      <td>0.000000</td>\n",
       "      <td>...</td>\n",
       "      <td>0.0</td>\n",
       "      <td>0.0</td>\n",
       "      <td>0.0</td>\n",
       "      <td>0.00000</td>\n",
       "      <td>0.000000</td>\n",
       "      <td>0.0</td>\n",
       "      <td>0.000000</td>\n",
       "      <td>0.0</td>\n",
       "      <td>0.0</td>\n",
       "      <td>0.0</td>\n",
       "    </tr>\n",
       "  </tbody>\n",
       "</table>\n",
       "<p>37500 rows × 1000 columns</p>\n",
       "</div>\n",
       "      <button class=\"colab-df-convert\" onclick=\"convertToInteractive('df-064d385c-73b8-4b3d-b618-e3d02c3e53c4')\"\n",
       "              title=\"Convert this dataframe to an interactive table.\"\n",
       "              style=\"display:none;\">\n",
       "\n",
       "  <svg xmlns=\"http://www.w3.org/2000/svg\" height=\"24px\"viewBox=\"0 0 24 24\"\n",
       "       width=\"24px\">\n",
       "    <path d=\"M0 0h24v24H0V0z\" fill=\"none\"/>\n",
       "    <path d=\"M18.56 5.44l.94 2.06.94-2.06 2.06-.94-2.06-.94-.94-2.06-.94 2.06-2.06.94zm-11 1L8.5 8.5l.94-2.06 2.06-.94-2.06-.94L8.5 2.5l-.94 2.06-2.06.94zm10 10l.94 2.06.94-2.06 2.06-.94-2.06-.94-.94-2.06-.94 2.06-2.06.94z\"/><path d=\"M17.41 7.96l-1.37-1.37c-.4-.4-.92-.59-1.43-.59-.52 0-1.04.2-1.43.59L10.3 9.45l-7.72 7.72c-.78.78-.78 2.05 0 2.83L4 21.41c.39.39.9.59 1.41.59.51 0 1.02-.2 1.41-.59l7.78-7.78 2.81-2.81c.8-.78.8-2.07 0-2.86zM5.41 20L4 18.59l7.72-7.72 1.47 1.35L5.41 20z\"/>\n",
       "  </svg>\n",
       "      </button>\n",
       "\n",
       "\n",
       "\n",
       "    <div id=\"df-6d4a30c1-7b32-425f-9e8e-bfcb4012771c\">\n",
       "      <button class=\"colab-df-quickchart\" onclick=\"quickchart('df-6d4a30c1-7b32-425f-9e8e-bfcb4012771c')\"\n",
       "              title=\"Suggest charts.\"\n",
       "              style=\"display:none;\">\n",
       "\n",
       "<svg xmlns=\"http://www.w3.org/2000/svg\" height=\"24px\"viewBox=\"0 0 24 24\"\n",
       "     width=\"24px\">\n",
       "    <g>\n",
       "        <path d=\"M19 3H5c-1.1 0-2 .9-2 2v14c0 1.1.9 2 2 2h14c1.1 0 2-.9 2-2V5c0-1.1-.9-2-2-2zM9 17H7v-7h2v7zm4 0h-2V7h2v10zm4 0h-2v-4h2v4z\"/>\n",
       "    </g>\n",
       "</svg>\n",
       "      </button>\n",
       "    </div>\n",
       "\n",
       "<style>\n",
       "  .colab-df-quickchart {\n",
       "    background-color: #E8F0FE;\n",
       "    border: none;\n",
       "    border-radius: 50%;\n",
       "    cursor: pointer;\n",
       "    display: none;\n",
       "    fill: #1967D2;\n",
       "    height: 32px;\n",
       "    padding: 0 0 0 0;\n",
       "    width: 32px;\n",
       "  }\n",
       "\n",
       "  .colab-df-quickchart:hover {\n",
       "    background-color: #E2EBFA;\n",
       "    box-shadow: 0px 1px 2px rgba(60, 64, 67, 0.3), 0px 1px 3px 1px rgba(60, 64, 67, 0.15);\n",
       "    fill: #174EA6;\n",
       "  }\n",
       "\n",
       "  [theme=dark] .colab-df-quickchart {\n",
       "    background-color: #3B4455;\n",
       "    fill: #D2E3FC;\n",
       "  }\n",
       "\n",
       "  [theme=dark] .colab-df-quickchart:hover {\n",
       "    background-color: #434B5C;\n",
       "    box-shadow: 0px 1px 3px 1px rgba(0, 0, 0, 0.15);\n",
       "    filter: drop-shadow(0px 1px 2px rgba(0, 0, 0, 0.3));\n",
       "    fill: #FFFFFF;\n",
       "  }\n",
       "</style>\n",
       "\n",
       "    <script>\n",
       "      async function quickchart(key) {\n",
       "        const containerElement = document.querySelector('#' + key);\n",
       "        const charts = await google.colab.kernel.invokeFunction(\n",
       "            'suggestCharts', [key], {});\n",
       "      }\n",
       "    </script>\n",
       "\n",
       "      <script>\n",
       "\n",
       "function displayQuickchartButton(domScope) {\n",
       "  let quickchartButtonEl =\n",
       "    domScope.querySelector('#df-6d4a30c1-7b32-425f-9e8e-bfcb4012771c button.colab-df-quickchart');\n",
       "  quickchartButtonEl.style.display =\n",
       "    google.colab.kernel.accessAllowed ? 'block' : 'none';\n",
       "}\n",
       "\n",
       "        displayQuickchartButton(document);\n",
       "      </script>\n",
       "      <style>\n",
       "    .colab-df-container {\n",
       "      display:flex;\n",
       "      flex-wrap:wrap;\n",
       "      gap: 12px;\n",
       "    }\n",
       "\n",
       "    .colab-df-convert {\n",
       "      background-color: #E8F0FE;\n",
       "      border: none;\n",
       "      border-radius: 50%;\n",
       "      cursor: pointer;\n",
       "      display: none;\n",
       "      fill: #1967D2;\n",
       "      height: 32px;\n",
       "      padding: 0 0 0 0;\n",
       "      width: 32px;\n",
       "    }\n",
       "\n",
       "    .colab-df-convert:hover {\n",
       "      background-color: #E2EBFA;\n",
       "      box-shadow: 0px 1px 2px rgba(60, 64, 67, 0.3), 0px 1px 3px 1px rgba(60, 64, 67, 0.15);\n",
       "      fill: #174EA6;\n",
       "    }\n",
       "\n",
       "    [theme=dark] .colab-df-convert {\n",
       "      background-color: #3B4455;\n",
       "      fill: #D2E3FC;\n",
       "    }\n",
       "\n",
       "    [theme=dark] .colab-df-convert:hover {\n",
       "      background-color: #434B5C;\n",
       "      box-shadow: 0px 1px 3px 1px rgba(0, 0, 0, 0.15);\n",
       "      filter: drop-shadow(0px 1px 2px rgba(0, 0, 0, 0.3));\n",
       "      fill: #FFFFFF;\n",
       "    }\n",
       "  </style>\n",
       "\n",
       "      <script>\n",
       "        const buttonEl =\n",
       "          document.querySelector('#df-064d385c-73b8-4b3d-b618-e3d02c3e53c4 button.colab-df-convert');\n",
       "        buttonEl.style.display =\n",
       "          google.colab.kernel.accessAllowed ? 'block' : 'none';\n",
       "\n",
       "        async function convertToInteractive(key) {\n",
       "          const element = document.querySelector('#df-064d385c-73b8-4b3d-b618-e3d02c3e53c4');\n",
       "          const dataTable =\n",
       "            await google.colab.kernel.invokeFunction('convertToInteractive',\n",
       "                                                     [key], {});\n",
       "          if (!dataTable) return;\n",
       "\n",
       "          const docLinkHtml = 'Like what you see? Visit the ' +\n",
       "            '<a target=\"_blank\" href=https://colab.research.google.com/notebooks/data_table.ipynb>data table notebook</a>'\n",
       "            + ' to learn more about interactive tables.';\n",
       "          element.innerHTML = '';\n",
       "          dataTable['output_type'] = 'display_data';\n",
       "          await google.colab.output.renderOutput(dataTable, element);\n",
       "          const docLink = document.createElement('div');\n",
       "          docLink.innerHTML = docLinkHtml;\n",
       "          element.appendChild(docLink);\n",
       "        }\n",
       "      </script>\n",
       "    </div>\n",
       "  </div>\n"
      ],
      "text/plain": [
       "           able     about  above  absolutely  across  actually  add  added  \\\n",
       "0      0.000000  0.124666    0.0         0.0     0.0  0.000000  0.0    0.0   \n",
       "1      0.000000  0.036270    0.0         0.0     0.0  0.000000  0.0    0.0   \n",
       "2      0.000000  0.063481    0.0         0.0     0.0  0.000000  0.0    0.0   \n",
       "3      0.000000  0.075601    0.0         0.0     0.0  0.000000  0.0    0.0   \n",
       "4      0.000000  0.052078    0.0         0.0     0.0  0.000000  0.0    0.0   \n",
       "...         ...       ...    ...         ...     ...       ...  ...    ...   \n",
       "37495  0.000000  0.000000    0.0         0.0     0.0  0.000000  0.0    0.0   \n",
       "37496  0.000000  0.000000    0.0         0.0     0.0  0.000000  0.0    0.0   \n",
       "37497  0.000000  0.000000    0.0         0.0     0.0  0.000000  0.0    0.0   \n",
       "37498  0.069271  0.041297    0.0         0.0     0.0  0.063292  0.0    0.0   \n",
       "37499  0.000000  0.000000    0.0         0.0     0.0  0.000000  0.0    0.0   \n",
       "\n",
       "       addition     after  ...  year  yelp  yes      yet       you  young  \\\n",
       "0           0.0  0.000000  ...   0.0   0.0  0.0  0.00000  0.000000    0.0   \n",
       "1           0.0  0.042366  ...   0.0   0.0  0.0  0.06429  0.026090    0.0   \n",
       "2           0.0  0.000000  ...   0.0   0.0  0.0  0.00000  0.000000    0.0   \n",
       "3           0.0  0.088306  ...   0.0   0.0  0.0  0.00000  0.000000    0.0   \n",
       "4           0.0  0.000000  ...   0.0   0.0  0.0  0.00000  0.374608    0.0   \n",
       "...         ...       ...  ...   ...   ...  ...      ...       ...    ...   \n",
       "37495       0.0  0.000000  ...   0.0   0.0  0.0  0.00000  0.000000    0.0   \n",
       "37496       0.0  0.000000  ...   0.0   0.0  0.0  0.00000  0.000000    0.0   \n",
       "37497       0.0  0.000000  ...   0.0   0.0  0.0  0.00000  0.201936    0.0   \n",
       "37498       0.0  0.000000  ...   0.0   0.0  0.0  0.00000  0.029706    0.0   \n",
       "37499       0.0  0.000000  ...   0.0   0.0  0.0  0.00000  0.000000    0.0   \n",
       "\n",
       "           your  yourself  yum  yummy  \n",
       "0      0.134863       0.0  0.0    0.0  \n",
       "1      0.000000       0.0  0.0    0.0  \n",
       "2      0.000000       0.0  0.0    0.0  \n",
       "3      0.000000       0.0  0.0    0.0  \n",
       "4      0.000000       0.0  0.0    0.0  \n",
       "...         ...       ...  ...    ...  \n",
       "37495  0.000000       0.0  0.0    0.0  \n",
       "37496  0.000000       0.0  0.0    0.0  \n",
       "37497  0.000000       0.0  0.0    0.0  \n",
       "37498  0.000000       0.0  0.0    0.0  \n",
       "37499  0.000000       0.0  0.0    0.0  \n",
       "\n",
       "[37500 rows x 1000 columns]"
      ]
     },
     "execution_count": 54,
     "metadata": {},
     "output_type": "execute_result"
    }
   ],
   "source": [
    "pd.DataFrame(tfidf_val_train.A,columns=tfidf.get_feature_names_out())"
   ]
  },
  {
   "cell_type": "code",
   "execution_count": 55,
   "metadata": {
    "id": "6_RI_EuFFZ6c"
   },
   "outputs": [],
   "source": [
    "# Drawabacks:\n",
    "\n",
    "# Course of dimentionality\n",
    "# Does not contain syntahtic meaning of words"
   ]
  },
  {
   "cell_type": "markdown",
   "metadata": {
    "id": "i2VtFCl_F3-B"
   },
   "source": [
    "### With the help of CountVectorizer & TFIDF we will build the Naive Bayes Model"
   ]
  },
  {
   "cell_type": "code",
   "execution_count": 56,
   "metadata": {
    "colab": {
     "base_uri": "https://localhost:8080/"
    },
    "id": "0r3WVnfcFZ9A",
    "outputId": "06774c6e-f1fd-4e04-e34c-e6a062ddfce1"
   },
   "outputs": [
    {
     "name": "stdout",
     "output_type": "stream",
     "text": [
      "CountVectorizer Naive Bayes Accuracy =  57.187425005999515\n"
     ]
    }
   ],
   "source": [
    "mnb_count = MultinomialNB()\n",
    "mnb_count.fit(count_val_train.A,y_train)\n",
    "\n",
    "pred_mnb_count = mnb_count.predict(count_val_test.A)\n",
    "\n",
    "acc_count = accuracy_score(y_test,pred_mnb_count)\n",
    "print('CountVectorizer Naive Bayes Accuracy = ',acc_count*100)"
   ]
  },
  {
   "cell_type": "code",
   "execution_count": 57,
   "metadata": {
    "colab": {
     "base_uri": "https://localhost:8080/"
    },
    "id": "c-eDnImRFZ_n",
    "outputId": "26da8c43-7f0d-45e3-ec3f-7ea238859788"
   },
   "outputs": [
    {
     "name": "stdout",
     "output_type": "stream",
     "text": [
      "TFIDF Naive Bayes Accuracy =  57.187425005999515\n"
     ]
    }
   ],
   "source": [
    "mnb_tfidf = MultinomialNB()\n",
    "mnb_tfidf.fit(tfidf_val_train.A,y_train)\n",
    "\n",
    "pred_mnb_tfidf = mnb_tfidf.predict(tfidf_val_test.A)\n",
    "\n",
    "acc_tfidf = accuracy_score(y_test,pred_mnb_tfidf)\n",
    "print('TFIDF Naive Bayes Accuracy = ',acc_count*100)"
   ]
  }
 ],
 "metadata": {
  "accelerator": "GPU",
  "colab": {
   "gpuType": "T4",
   "provenance": []
  },
  "kernelspec": {
   "display_name": "Python 3 (ipykernel)",
   "language": "python",
   "name": "python3"
  },
  "language_info": {
   "codemirror_mode": {
    "name": "ipython",
    "version": 3
   },
   "file_extension": ".py",
   "mimetype": "text/x-python",
   "name": "python",
   "nbconvert_exporter": "python",
   "pygments_lexer": "ipython3",
   "version": "3.11.3"
  }
 },
 "nbformat": 4,
 "nbformat_minor": 1
}
